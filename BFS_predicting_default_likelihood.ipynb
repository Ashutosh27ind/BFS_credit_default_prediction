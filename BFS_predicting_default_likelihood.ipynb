{
 "cells": [
  {
   "cell_type": "code",
   "execution_count": 1,
   "metadata": {},
   "outputs": [],
   "source": [
    "# Loading the libraries\n",
    "import pandas as pd\n",
    "pd.set_option('display.max_columns', 31)\n",
    "# pd.set_option('display.width', 5000)\n",
    "import numpy as np"
   ]
  },
  {
   "cell_type": "code",
   "execution_count": 2,
   "metadata": {},
   "outputs": [],
   "source": [
    "demo = pd.read_csv('Demographic data.csv')"
   ]
  },
  {
   "cell_type": "code",
   "execution_count": 3,
   "metadata": {},
   "outputs": [
    {
     "data": {
      "text/plain": [
       "(71295, 12)"
      ]
     },
     "execution_count": 3,
     "metadata": {},
     "output_type": "execute_result"
    }
   ],
   "source": [
    "demo.shape"
   ]
  },
  {
   "cell_type": "code",
   "execution_count": 4,
   "metadata": {},
   "outputs": [
    {
     "data": {
      "text/html": [
       "<div>\n",
       "<style scoped>\n",
       "    .dataframe tbody tr th:only-of-type {\n",
       "        vertical-align: middle;\n",
       "    }\n",
       "\n",
       "    .dataframe tbody tr th {\n",
       "        vertical-align: top;\n",
       "    }\n",
       "\n",
       "    .dataframe thead th {\n",
       "        text-align: right;\n",
       "    }\n",
       "</style>\n",
       "<table border=\"1\" class=\"dataframe\">\n",
       "  <thead>\n",
       "    <tr style=\"text-align: right;\">\n",
       "      <th></th>\n",
       "      <th>Application ID</th>\n",
       "      <th>Age</th>\n",
       "      <th>Gender</th>\n",
       "      <th>Marital Status (at the time of application)</th>\n",
       "      <th>No of dependents</th>\n",
       "      <th>Income</th>\n",
       "      <th>Education</th>\n",
       "      <th>Profession</th>\n",
       "      <th>Type of residence</th>\n",
       "      <th>No of months in current residence</th>\n",
       "      <th>No of months in current company</th>\n",
       "      <th>Performance Tag</th>\n",
       "    </tr>\n",
       "  </thead>\n",
       "  <tbody>\n",
       "    <tr>\n",
       "      <th>0</th>\n",
       "      <td>954457215</td>\n",
       "      <td>48</td>\n",
       "      <td>F</td>\n",
       "      <td>Married</td>\n",
       "      <td>2.0</td>\n",
       "      <td>40.0</td>\n",
       "      <td>Bachelor</td>\n",
       "      <td>SAL</td>\n",
       "      <td>Rented</td>\n",
       "      <td>113</td>\n",
       "      <td>56</td>\n",
       "      <td>0.0</td>\n",
       "    </tr>\n",
       "    <tr>\n",
       "      <th>1</th>\n",
       "      <td>432830445</td>\n",
       "      <td>31</td>\n",
       "      <td>M</td>\n",
       "      <td>Married</td>\n",
       "      <td>4.0</td>\n",
       "      <td>55.0</td>\n",
       "      <td>Professional</td>\n",
       "      <td>SE_PROF</td>\n",
       "      <td>Rented</td>\n",
       "      <td>112</td>\n",
       "      <td>46</td>\n",
       "      <td>0.0</td>\n",
       "    </tr>\n",
       "    <tr>\n",
       "      <th>2</th>\n",
       "      <td>941387308</td>\n",
       "      <td>32</td>\n",
       "      <td>M</td>\n",
       "      <td>Single</td>\n",
       "      <td>2.0</td>\n",
       "      <td>46.0</td>\n",
       "      <td>Bachelor</td>\n",
       "      <td>SE_PROF</td>\n",
       "      <td>Rented</td>\n",
       "      <td>104</td>\n",
       "      <td>49</td>\n",
       "      <td>0.0</td>\n",
       "    </tr>\n",
       "    <tr>\n",
       "      <th>3</th>\n",
       "      <td>392161677</td>\n",
       "      <td>43</td>\n",
       "      <td>M</td>\n",
       "      <td>Married</td>\n",
       "      <td>1.0</td>\n",
       "      <td>53.0</td>\n",
       "      <td>Bachelor</td>\n",
       "      <td>SE</td>\n",
       "      <td>Rented</td>\n",
       "      <td>94</td>\n",
       "      <td>53</td>\n",
       "      <td>0.0</td>\n",
       "    </tr>\n",
       "    <tr>\n",
       "      <th>4</th>\n",
       "      <td>182011211</td>\n",
       "      <td>35</td>\n",
       "      <td>F</td>\n",
       "      <td>Married</td>\n",
       "      <td>5.0</td>\n",
       "      <td>44.0</td>\n",
       "      <td>Professional</td>\n",
       "      <td>SAL</td>\n",
       "      <td>Rented</td>\n",
       "      <td>112</td>\n",
       "      <td>43</td>\n",
       "      <td>0.0</td>\n",
       "    </tr>\n",
       "  </tbody>\n",
       "</table>\n",
       "</div>"
      ],
      "text/plain": [
       "   Application ID  Age Gender Marital Status (at the time of application)  \\\n",
       "0       954457215   48      F                                     Married   \n",
       "1       432830445   31      M                                     Married   \n",
       "2       941387308   32      M                                      Single   \n",
       "3       392161677   43      M                                     Married   \n",
       "4       182011211   35      F                                     Married   \n",
       "\n",
       "   No of dependents  Income     Education Profession  Type of residence  \\\n",
       "0               2.0    40.0      Bachelor         SAL            Rented   \n",
       "1               4.0    55.0  Professional     SE_PROF            Rented   \n",
       "2               2.0    46.0      Bachelor     SE_PROF            Rented   \n",
       "3               1.0    53.0      Bachelor          SE            Rented   \n",
       "4               5.0    44.0  Professional         SAL            Rented   \n",
       "\n",
       "   No of months in current residence  No of months in current company  \\\n",
       "0                                113                               56   \n",
       "1                                112                               46   \n",
       "2                                104                               49   \n",
       "3                                 94                               53   \n",
       "4                                112                               43   \n",
       "\n",
       "   Performance Tag  \n",
       "0              0.0  \n",
       "1              0.0  \n",
       "2              0.0  \n",
       "3              0.0  \n",
       "4              0.0  "
      ]
     },
     "execution_count": 4,
     "metadata": {},
     "output_type": "execute_result"
    }
   ],
   "source": [
    "demo.head()"
   ]
  },
  {
   "cell_type": "code",
   "execution_count": 5,
   "metadata": {},
   "outputs": [],
   "source": [
    "demo.columns = [c.replace(' ', '_') for c in demo.columns]"
   ]
  },
  {
   "cell_type": "code",
   "execution_count": 6,
   "metadata": {},
   "outputs": [
    {
     "data": {
      "text/html": [
       "<div>\n",
       "<style scoped>\n",
       "    .dataframe tbody tr th:only-of-type {\n",
       "        vertical-align: middle;\n",
       "    }\n",
       "\n",
       "    .dataframe tbody tr th {\n",
       "        vertical-align: top;\n",
       "    }\n",
       "\n",
       "    .dataframe thead th {\n",
       "        text-align: right;\n",
       "    }\n",
       "</style>\n",
       "<table border=\"1\" class=\"dataframe\">\n",
       "  <thead>\n",
       "    <tr style=\"text-align: right;\">\n",
       "      <th></th>\n",
       "      <th>Application_ID</th>\n",
       "      <th>Age</th>\n",
       "      <th>Gender</th>\n",
       "      <th>Marital_Status_(at_the_time_of_application)</th>\n",
       "      <th>No_of_dependents</th>\n",
       "      <th>Income</th>\n",
       "      <th>Education</th>\n",
       "      <th>Profession_</th>\n",
       "      <th>Type_of_residence</th>\n",
       "      <th>No_of_months_in_current_residence</th>\n",
       "      <th>No_of_months_in_current_company</th>\n",
       "      <th>Performance_Tag</th>\n",
       "    </tr>\n",
       "  </thead>\n",
       "  <tbody>\n",
       "    <tr>\n",
       "      <th>0</th>\n",
       "      <td>954457215</td>\n",
       "      <td>48</td>\n",
       "      <td>F</td>\n",
       "      <td>Married</td>\n",
       "      <td>2.0</td>\n",
       "      <td>40.0</td>\n",
       "      <td>Bachelor</td>\n",
       "      <td>SAL</td>\n",
       "      <td>Rented</td>\n",
       "      <td>113</td>\n",
       "      <td>56</td>\n",
       "      <td>0.0</td>\n",
       "    </tr>\n",
       "    <tr>\n",
       "      <th>1</th>\n",
       "      <td>432830445</td>\n",
       "      <td>31</td>\n",
       "      <td>M</td>\n",
       "      <td>Married</td>\n",
       "      <td>4.0</td>\n",
       "      <td>55.0</td>\n",
       "      <td>Professional</td>\n",
       "      <td>SE_PROF</td>\n",
       "      <td>Rented</td>\n",
       "      <td>112</td>\n",
       "      <td>46</td>\n",
       "      <td>0.0</td>\n",
       "    </tr>\n",
       "    <tr>\n",
       "      <th>2</th>\n",
       "      <td>941387308</td>\n",
       "      <td>32</td>\n",
       "      <td>M</td>\n",
       "      <td>Single</td>\n",
       "      <td>2.0</td>\n",
       "      <td>46.0</td>\n",
       "      <td>Bachelor</td>\n",
       "      <td>SE_PROF</td>\n",
       "      <td>Rented</td>\n",
       "      <td>104</td>\n",
       "      <td>49</td>\n",
       "      <td>0.0</td>\n",
       "    </tr>\n",
       "    <tr>\n",
       "      <th>3</th>\n",
       "      <td>392161677</td>\n",
       "      <td>43</td>\n",
       "      <td>M</td>\n",
       "      <td>Married</td>\n",
       "      <td>1.0</td>\n",
       "      <td>53.0</td>\n",
       "      <td>Bachelor</td>\n",
       "      <td>SE</td>\n",
       "      <td>Rented</td>\n",
       "      <td>94</td>\n",
       "      <td>53</td>\n",
       "      <td>0.0</td>\n",
       "    </tr>\n",
       "    <tr>\n",
       "      <th>4</th>\n",
       "      <td>182011211</td>\n",
       "      <td>35</td>\n",
       "      <td>F</td>\n",
       "      <td>Married</td>\n",
       "      <td>5.0</td>\n",
       "      <td>44.0</td>\n",
       "      <td>Professional</td>\n",
       "      <td>SAL</td>\n",
       "      <td>Rented</td>\n",
       "      <td>112</td>\n",
       "      <td>43</td>\n",
       "      <td>0.0</td>\n",
       "    </tr>\n",
       "  </tbody>\n",
       "</table>\n",
       "</div>"
      ],
      "text/plain": [
       "   Application_ID  Age Gender Marital_Status_(at_the_time_of_application)  \\\n",
       "0       954457215   48      F                                     Married   \n",
       "1       432830445   31      M                                     Married   \n",
       "2       941387308   32      M                                      Single   \n",
       "3       392161677   43      M                                     Married   \n",
       "4       182011211   35      F                                     Married   \n",
       "\n",
       "   No_of_dependents  Income     Education Profession_ Type_of_residence  \\\n",
       "0               2.0    40.0      Bachelor         SAL            Rented   \n",
       "1               4.0    55.0  Professional     SE_PROF            Rented   \n",
       "2               2.0    46.0      Bachelor     SE_PROF            Rented   \n",
       "3               1.0    53.0      Bachelor          SE            Rented   \n",
       "4               5.0    44.0  Professional         SAL            Rented   \n",
       "\n",
       "   No_of_months_in_current_residence  No_of_months_in_current_company  \\\n",
       "0                                113                               56   \n",
       "1                                112                               46   \n",
       "2                                104                               49   \n",
       "3                                 94                               53   \n",
       "4                                112                               43   \n",
       "\n",
       "   Performance_Tag  \n",
       "0              0.0  \n",
       "1              0.0  \n",
       "2              0.0  \n",
       "3              0.0  \n",
       "4              0.0  "
      ]
     },
     "execution_count": 6,
     "metadata": {},
     "output_type": "execute_result"
    }
   ],
   "source": [
    "demo.head()"
   ]
  },
  {
   "cell_type": "code",
   "execution_count": 7,
   "metadata": {},
   "outputs": [
    {
     "data": {
      "text/plain": [
       "Index(['Application_ID', 'Age', 'Gender',\n",
       "       'Marital_Status_(at_the_time_of_application)', 'No_of_dependents',\n",
       "       'Income', 'Education', 'Profession_', 'Type_of_residence',\n",
       "       'No_of_months_in_current_residence', 'No_of_months_in_current_company',\n",
       "       'Performance_Tag'],\n",
       "      dtype='object')"
      ]
     },
     "execution_count": 7,
     "metadata": {},
     "output_type": "execute_result"
    }
   ],
   "source": [
    "demo.columns"
   ]
  },
  {
   "cell_type": "code",
   "execution_count": 8,
   "metadata": {},
   "outputs": [],
   "source": [
    "demo = demo.drop_duplicates('Application_ID')"
   ]
  },
  {
   "cell_type": "code",
   "execution_count": 9,
   "metadata": {},
   "outputs": [
    {
     "data": {
      "text/plain": [
       "(71292, 12)"
      ]
     },
     "execution_count": 9,
     "metadata": {},
     "output_type": "execute_result"
    }
   ],
   "source": [
    "demo.shape"
   ]
  },
  {
   "cell_type": "code",
   "execution_count": 10,
   "metadata": {},
   "outputs": [
    {
     "data": {
      "text/plain": [
       "(71295, 19)"
      ]
     },
     "execution_count": 10,
     "metadata": {},
     "output_type": "execute_result"
    }
   ],
   "source": [
    "credit = pd.read_csv('Credit Bureau Data.csv')\n",
    "\n",
    "credit.shape"
   ]
  },
  {
   "cell_type": "code",
   "execution_count": 11,
   "metadata": {},
   "outputs": [],
   "source": [
    "credit.columns = [c.replace(' ', '_') for c in credit.columns]"
   ]
  },
  {
   "cell_type": "code",
   "execution_count": 12,
   "metadata": {},
   "outputs": [
    {
     "data": {
      "text/html": [
       "<div>\n",
       "<style scoped>\n",
       "    .dataframe tbody tr th:only-of-type {\n",
       "        vertical-align: middle;\n",
       "    }\n",
       "\n",
       "    .dataframe tbody tr th {\n",
       "        vertical-align: top;\n",
       "    }\n",
       "\n",
       "    .dataframe thead th {\n",
       "        text-align: right;\n",
       "    }\n",
       "</style>\n",
       "<table border=\"1\" class=\"dataframe\">\n",
       "  <thead>\n",
       "    <tr style=\"text-align: right;\">\n",
       "      <th></th>\n",
       "      <th>Application_ID</th>\n",
       "      <th>No_of_times_90_DPD_or_worse_in_last_6_months</th>\n",
       "      <th>No_of_times_60_DPD_or_worse_in_last_6_months</th>\n",
       "      <th>No_of_times_30_DPD_or_worse_in_last_6_months</th>\n",
       "      <th>No_of_times_90_DPD_or_worse_in_last_12_months</th>\n",
       "      <th>No_of_times_60_DPD_or_worse_in_last_12_months</th>\n",
       "      <th>No_of_times_30_DPD_or_worse_in_last_12_months</th>\n",
       "      <th>Avgas_CC_Utilization_in_last_12_months</th>\n",
       "      <th>No_of_trades_opened_in_last_6_months</th>\n",
       "      <th>No_of_trades_opened_in_last_12_months</th>\n",
       "      <th>No_of_PL_trades_opened_in_last_6_months</th>\n",
       "      <th>No_of_PL_trades_opened_in_last_12_months</th>\n",
       "      <th>No_of_Inquiries_in_last_6_months_(excluding_home_&amp;_auto_loans)</th>\n",
       "      <th>No_of_Inquiries_in_last_12_months_(excluding_home_&amp;_auto_loans)</th>\n",
       "      <th>Presence_of_open_home_loan</th>\n",
       "      <th>Outstanding_Balance</th>\n",
       "      <th>Total_No_of_Trades</th>\n",
       "      <th>Presence_of_open_auto_loan</th>\n",
       "      <th>Performance_Tag</th>\n",
       "    </tr>\n",
       "  </thead>\n",
       "  <tbody>\n",
       "    <tr>\n",
       "      <th>0</th>\n",
       "      <td>954457215</td>\n",
       "      <td>0</td>\n",
       "      <td>0</td>\n",
       "      <td>0</td>\n",
       "      <td>0</td>\n",
       "      <td>0</td>\n",
       "      <td>0</td>\n",
       "      <td>4.0</td>\n",
       "      <td>1.0</td>\n",
       "      <td>2</td>\n",
       "      <td>0</td>\n",
       "      <td>0</td>\n",
       "      <td>0</td>\n",
       "      <td>0</td>\n",
       "      <td>1.0</td>\n",
       "      <td>2999395.0</td>\n",
       "      <td>4</td>\n",
       "      <td>0</td>\n",
       "      <td>0.0</td>\n",
       "    </tr>\n",
       "    <tr>\n",
       "      <th>1</th>\n",
       "      <td>432830445</td>\n",
       "      <td>0</td>\n",
       "      <td>0</td>\n",
       "      <td>0</td>\n",
       "      <td>0</td>\n",
       "      <td>0</td>\n",
       "      <td>0</td>\n",
       "      <td>3.0</td>\n",
       "      <td>1.0</td>\n",
       "      <td>2</td>\n",
       "      <td>0</td>\n",
       "      <td>0</td>\n",
       "      <td>0</td>\n",
       "      <td>0</td>\n",
       "      <td>0.0</td>\n",
       "      <td>3078.0</td>\n",
       "      <td>5</td>\n",
       "      <td>0</td>\n",
       "      <td>0.0</td>\n",
       "    </tr>\n",
       "    <tr>\n",
       "      <th>2</th>\n",
       "      <td>941387308</td>\n",
       "      <td>0</td>\n",
       "      <td>0</td>\n",
       "      <td>0</td>\n",
       "      <td>0</td>\n",
       "      <td>0</td>\n",
       "      <td>0</td>\n",
       "      <td>7.0</td>\n",
       "      <td>0.0</td>\n",
       "      <td>0</td>\n",
       "      <td>0</td>\n",
       "      <td>0</td>\n",
       "      <td>0</td>\n",
       "      <td>0</td>\n",
       "      <td>1.0</td>\n",
       "      <td>3004972.0</td>\n",
       "      <td>2</td>\n",
       "      <td>0</td>\n",
       "      <td>0.0</td>\n",
       "    </tr>\n",
       "    <tr>\n",
       "      <th>3</th>\n",
       "      <td>392161677</td>\n",
       "      <td>0</td>\n",
       "      <td>0</td>\n",
       "      <td>0</td>\n",
       "      <td>0</td>\n",
       "      <td>0</td>\n",
       "      <td>0</td>\n",
       "      <td>11.0</td>\n",
       "      <td>1.0</td>\n",
       "      <td>1</td>\n",
       "      <td>0</td>\n",
       "      <td>0</td>\n",
       "      <td>0</td>\n",
       "      <td>0</td>\n",
       "      <td>1.0</td>\n",
       "      <td>3355373.0</td>\n",
       "      <td>4</td>\n",
       "      <td>1</td>\n",
       "      <td>0.0</td>\n",
       "    </tr>\n",
       "    <tr>\n",
       "      <th>4</th>\n",
       "      <td>182011211</td>\n",
       "      <td>0</td>\n",
       "      <td>0</td>\n",
       "      <td>0</td>\n",
       "      <td>0</td>\n",
       "      <td>0</td>\n",
       "      <td>0</td>\n",
       "      <td>12.0</td>\n",
       "      <td>0.0</td>\n",
       "      <td>1</td>\n",
       "      <td>0</td>\n",
       "      <td>0</td>\n",
       "      <td>0</td>\n",
       "      <td>0</td>\n",
       "      <td>1.0</td>\n",
       "      <td>3014283.0</td>\n",
       "      <td>4</td>\n",
       "      <td>0</td>\n",
       "      <td>0.0</td>\n",
       "    </tr>\n",
       "  </tbody>\n",
       "</table>\n",
       "</div>"
      ],
      "text/plain": [
       "   Application_ID  No_of_times_90_DPD_or_worse_in_last_6_months  \\\n",
       "0       954457215                                             0   \n",
       "1       432830445                                             0   \n",
       "2       941387308                                             0   \n",
       "3       392161677                                             0   \n",
       "4       182011211                                             0   \n",
       "\n",
       "   No_of_times_60_DPD_or_worse_in_last_6_months  \\\n",
       "0                                             0   \n",
       "1                                             0   \n",
       "2                                             0   \n",
       "3                                             0   \n",
       "4                                             0   \n",
       "\n",
       "   No_of_times_30_DPD_or_worse_in_last_6_months  \\\n",
       "0                                             0   \n",
       "1                                             0   \n",
       "2                                             0   \n",
       "3                                             0   \n",
       "4                                             0   \n",
       "\n",
       "   No_of_times_90_DPD_or_worse_in_last_12_months  \\\n",
       "0                                              0   \n",
       "1                                              0   \n",
       "2                                              0   \n",
       "3                                              0   \n",
       "4                                              0   \n",
       "\n",
       "   No_of_times_60_DPD_or_worse_in_last_12_months  \\\n",
       "0                                              0   \n",
       "1                                              0   \n",
       "2                                              0   \n",
       "3                                              0   \n",
       "4                                              0   \n",
       "\n",
       "   No_of_times_30_DPD_or_worse_in_last_12_months  \\\n",
       "0                                              0   \n",
       "1                                              0   \n",
       "2                                              0   \n",
       "3                                              0   \n",
       "4                                              0   \n",
       "\n",
       "   Avgas_CC_Utilization_in_last_12_months  \\\n",
       "0                                     4.0   \n",
       "1                                     3.0   \n",
       "2                                     7.0   \n",
       "3                                    11.0   \n",
       "4                                    12.0   \n",
       "\n",
       "   No_of_trades_opened_in_last_6_months  \\\n",
       "0                                   1.0   \n",
       "1                                   1.0   \n",
       "2                                   0.0   \n",
       "3                                   1.0   \n",
       "4                                   0.0   \n",
       "\n",
       "   No_of_trades_opened_in_last_12_months  \\\n",
       "0                                      2   \n",
       "1                                      2   \n",
       "2                                      0   \n",
       "3                                      1   \n",
       "4                                      1   \n",
       "\n",
       "   No_of_PL_trades_opened_in_last_6_months  \\\n",
       "0                                        0   \n",
       "1                                        0   \n",
       "2                                        0   \n",
       "3                                        0   \n",
       "4                                        0   \n",
       "\n",
       "   No_of_PL_trades_opened_in_last_12_months  \\\n",
       "0                                         0   \n",
       "1                                         0   \n",
       "2                                         0   \n",
       "3                                         0   \n",
       "4                                         0   \n",
       "\n",
       "   No_of_Inquiries_in_last_6_months_(excluding_home_&_auto_loans)  \\\n",
       "0                                                  0                \n",
       "1                                                  0                \n",
       "2                                                  0                \n",
       "3                                                  0                \n",
       "4                                                  0                \n",
       "\n",
       "   No_of_Inquiries_in_last_12_months_(excluding_home_&_auto_loans)  \\\n",
       "0                                                  0                 \n",
       "1                                                  0                 \n",
       "2                                                  0                 \n",
       "3                                                  0                 \n",
       "4                                                  0                 \n",
       "\n",
       "   Presence_of_open_home_loan  Outstanding_Balance  Total_No_of_Trades  \\\n",
       "0                         1.0            2999395.0                   4   \n",
       "1                         0.0               3078.0                   5   \n",
       "2                         1.0            3004972.0                   2   \n",
       "3                         1.0            3355373.0                   4   \n",
       "4                         1.0            3014283.0                   4   \n",
       "\n",
       "   Presence_of_open_auto_loan  Performance_Tag  \n",
       "0                           0              0.0  \n",
       "1                           0              0.0  \n",
       "2                           0              0.0  \n",
       "3                           1              0.0  \n",
       "4                           0              0.0  "
      ]
     },
     "execution_count": 12,
     "metadata": {},
     "output_type": "execute_result"
    }
   ],
   "source": [
    "credit.head()"
   ]
  },
  {
   "cell_type": "code",
   "execution_count": 13,
   "metadata": {},
   "outputs": [],
   "source": [
    "credit = credit.drop_duplicates('Application_ID')"
   ]
  },
  {
   "cell_type": "code",
   "execution_count": 14,
   "metadata": {},
   "outputs": [
    {
     "data": {
      "text/plain": [
       "(71292, 19)"
      ]
     },
     "execution_count": 14,
     "metadata": {},
     "output_type": "execute_result"
    }
   ],
   "source": [
    "credit.shape"
   ]
  },
  {
   "cell_type": "code",
   "execution_count": 15,
   "metadata": {},
   "outputs": [
    {
     "data": {
      "text/html": [
       "<div>\n",
       "<style scoped>\n",
       "    .dataframe tbody tr th:only-of-type {\n",
       "        vertical-align: middle;\n",
       "    }\n",
       "\n",
       "    .dataframe tbody tr th {\n",
       "        vertical-align: top;\n",
       "    }\n",
       "\n",
       "    .dataframe thead th {\n",
       "        text-align: right;\n",
       "    }\n",
       "</style>\n",
       "<table border=\"1\" class=\"dataframe\">\n",
       "  <thead>\n",
       "    <tr style=\"text-align: right;\">\n",
       "      <th></th>\n",
       "      <th>Application_ID</th>\n",
       "      <th>No_of_times_90_DPD_or_worse_in_last_6_months</th>\n",
       "      <th>No_of_times_60_DPD_or_worse_in_last_6_months</th>\n",
       "      <th>No_of_times_30_DPD_or_worse_in_last_6_months</th>\n",
       "      <th>No_of_times_90_DPD_or_worse_in_last_12_months</th>\n",
       "      <th>No_of_times_60_DPD_or_worse_in_last_12_months</th>\n",
       "      <th>No_of_times_30_DPD_or_worse_in_last_12_months</th>\n",
       "      <th>Avgas_CC_Utilization_in_last_12_months</th>\n",
       "      <th>No_of_trades_opened_in_last_6_months</th>\n",
       "      <th>No_of_trades_opened_in_last_12_months</th>\n",
       "      <th>No_of_PL_trades_opened_in_last_6_months</th>\n",
       "      <th>No_of_PL_trades_opened_in_last_12_months</th>\n",
       "      <th>No_of_Inquiries_in_last_6_months_(excluding_home_&amp;_auto_loans)</th>\n",
       "      <th>No_of_Inquiries_in_last_12_months_(excluding_home_&amp;_auto_loans)</th>\n",
       "      <th>Presence_of_open_home_loan</th>\n",
       "      <th>Outstanding_Balance</th>\n",
       "      <th>Total_No_of_Trades</th>\n",
       "      <th>Presence_of_open_auto_loan</th>\n",
       "      <th>Performance_Tag</th>\n",
       "    </tr>\n",
       "  </thead>\n",
       "  <tbody>\n",
       "    <tr>\n",
       "      <th>count</th>\n",
       "      <td>7.129200e+04</td>\n",
       "      <td>71292.000000</td>\n",
       "      <td>71292.000000</td>\n",
       "      <td>71292.000000</td>\n",
       "      <td>71292.000000</td>\n",
       "      <td>71292.000000</td>\n",
       "      <td>71292.000000</td>\n",
       "      <td>70234.000000</td>\n",
       "      <td>71291.000000</td>\n",
       "      <td>71292.000000</td>\n",
       "      <td>71292.000000</td>\n",
       "      <td>71292.000000</td>\n",
       "      <td>71292.000000</td>\n",
       "      <td>71292.000000</td>\n",
       "      <td>71020.000000</td>\n",
       "      <td>7.102000e+04</td>\n",
       "      <td>71292.000000</td>\n",
       "      <td>71292.000000</td>\n",
       "      <td>69867.000000</td>\n",
       "    </tr>\n",
       "    <tr>\n",
       "      <th>mean</th>\n",
       "      <td>4.989518e+08</td>\n",
       "      <td>0.270311</td>\n",
       "      <td>0.430525</td>\n",
       "      <td>0.577190</td>\n",
       "      <td>0.450331</td>\n",
       "      <td>0.655459</td>\n",
       "      <td>0.800875</td>\n",
       "      <td>29.695347</td>\n",
       "      <td>2.298060</td>\n",
       "      <td>5.826923</td>\n",
       "      <td>1.206924</td>\n",
       "      <td>2.397450</td>\n",
       "      <td>1.763550</td>\n",
       "      <td>3.535221</td>\n",
       "      <td>0.256435</td>\n",
       "      <td>1.249195e+06</td>\n",
       "      <td>8.186711</td>\n",
       "      <td>0.084624</td>\n",
       "      <td>0.042180</td>\n",
       "    </tr>\n",
       "    <tr>\n",
       "      <th>std</th>\n",
       "      <td>2.885936e+08</td>\n",
       "      <td>0.534168</td>\n",
       "      <td>0.825344</td>\n",
       "      <td>1.074442</td>\n",
       "      <td>0.808380</td>\n",
       "      <td>1.089532</td>\n",
       "      <td>1.331932</td>\n",
       "      <td>29.531665</td>\n",
       "      <td>2.070227</td>\n",
       "      <td>5.065188</td>\n",
       "      <td>1.352956</td>\n",
       "      <td>2.420112</td>\n",
       "      <td>1.971331</td>\n",
       "      <td>3.582261</td>\n",
       "      <td>0.436668</td>\n",
       "      <td>1.278889e+06</td>\n",
       "      <td>7.090915</td>\n",
       "      <td>0.278323</td>\n",
       "      <td>0.201001</td>\n",
       "    </tr>\n",
       "    <tr>\n",
       "      <th>min</th>\n",
       "      <td>1.004500e+05</td>\n",
       "      <td>0.000000</td>\n",
       "      <td>0.000000</td>\n",
       "      <td>0.000000</td>\n",
       "      <td>0.000000</td>\n",
       "      <td>0.000000</td>\n",
       "      <td>0.000000</td>\n",
       "      <td>0.000000</td>\n",
       "      <td>0.000000</td>\n",
       "      <td>0.000000</td>\n",
       "      <td>0.000000</td>\n",
       "      <td>0.000000</td>\n",
       "      <td>0.000000</td>\n",
       "      <td>0.000000</td>\n",
       "      <td>0.000000</td>\n",
       "      <td>0.000000e+00</td>\n",
       "      <td>0.000000</td>\n",
       "      <td>0.000000</td>\n",
       "      <td>0.000000</td>\n",
       "    </tr>\n",
       "    <tr>\n",
       "      <th>25%</th>\n",
       "      <td>2.483706e+08</td>\n",
       "      <td>0.000000</td>\n",
       "      <td>0.000000</td>\n",
       "      <td>0.000000</td>\n",
       "      <td>0.000000</td>\n",
       "      <td>0.000000</td>\n",
       "      <td>0.000000</td>\n",
       "      <td>8.000000</td>\n",
       "      <td>1.000000</td>\n",
       "      <td>2.000000</td>\n",
       "      <td>0.000000</td>\n",
       "      <td>0.000000</td>\n",
       "      <td>0.000000</td>\n",
       "      <td>0.000000</td>\n",
       "      <td>0.000000</td>\n",
       "      <td>2.115370e+05</td>\n",
       "      <td>3.000000</td>\n",
       "      <td>0.000000</td>\n",
       "      <td>0.000000</td>\n",
       "    </tr>\n",
       "    <tr>\n",
       "      <th>50%</th>\n",
       "      <td>4.975655e+08</td>\n",
       "      <td>0.000000</td>\n",
       "      <td>0.000000</td>\n",
       "      <td>0.000000</td>\n",
       "      <td>0.000000</td>\n",
       "      <td>0.000000</td>\n",
       "      <td>0.000000</td>\n",
       "      <td>15.000000</td>\n",
       "      <td>2.000000</td>\n",
       "      <td>5.000000</td>\n",
       "      <td>1.000000</td>\n",
       "      <td>2.000000</td>\n",
       "      <td>1.000000</td>\n",
       "      <td>3.000000</td>\n",
       "      <td>0.000000</td>\n",
       "      <td>7.749945e+05</td>\n",
       "      <td>6.000000</td>\n",
       "      <td>0.000000</td>\n",
       "      <td>0.000000</td>\n",
       "    </tr>\n",
       "    <tr>\n",
       "      <th>75%</th>\n",
       "      <td>7.495782e+08</td>\n",
       "      <td>0.000000</td>\n",
       "      <td>1.000000</td>\n",
       "      <td>1.000000</td>\n",
       "      <td>1.000000</td>\n",
       "      <td>1.000000</td>\n",
       "      <td>1.000000</td>\n",
       "      <td>46.000000</td>\n",
       "      <td>3.000000</td>\n",
       "      <td>9.000000</td>\n",
       "      <td>2.000000</td>\n",
       "      <td>4.000000</td>\n",
       "      <td>3.000000</td>\n",
       "      <td>5.000000</td>\n",
       "      <td>1.000000</td>\n",
       "      <td>2.920797e+06</td>\n",
       "      <td>10.000000</td>\n",
       "      <td>0.000000</td>\n",
       "      <td>0.000000</td>\n",
       "    </tr>\n",
       "    <tr>\n",
       "      <th>max</th>\n",
       "      <td>1.000084e+09</td>\n",
       "      <td>3.000000</td>\n",
       "      <td>5.000000</td>\n",
       "      <td>7.000000</td>\n",
       "      <td>5.000000</td>\n",
       "      <td>7.000000</td>\n",
       "      <td>9.000000</td>\n",
       "      <td>113.000000</td>\n",
       "      <td>12.000000</td>\n",
       "      <td>28.000000</td>\n",
       "      <td>6.000000</td>\n",
       "      <td>12.000000</td>\n",
       "      <td>10.000000</td>\n",
       "      <td>20.000000</td>\n",
       "      <td>1.000000</td>\n",
       "      <td>5.218801e+06</td>\n",
       "      <td>44.000000</td>\n",
       "      <td>1.000000</td>\n",
       "      <td>1.000000</td>\n",
       "    </tr>\n",
       "  </tbody>\n",
       "</table>\n",
       "</div>"
      ],
      "text/plain": [
       "       Application_ID  No_of_times_90_DPD_or_worse_in_last_6_months  \\\n",
       "count    7.129200e+04                                  71292.000000   \n",
       "mean     4.989518e+08                                      0.270311   \n",
       "std      2.885936e+08                                      0.534168   \n",
       "min      1.004500e+05                                      0.000000   \n",
       "25%      2.483706e+08                                      0.000000   \n",
       "50%      4.975655e+08                                      0.000000   \n",
       "75%      7.495782e+08                                      0.000000   \n",
       "max      1.000084e+09                                      3.000000   \n",
       "\n",
       "       No_of_times_60_DPD_or_worse_in_last_6_months  \\\n",
       "count                                  71292.000000   \n",
       "mean                                       0.430525   \n",
       "std                                        0.825344   \n",
       "min                                        0.000000   \n",
       "25%                                        0.000000   \n",
       "50%                                        0.000000   \n",
       "75%                                        1.000000   \n",
       "max                                        5.000000   \n",
       "\n",
       "       No_of_times_30_DPD_or_worse_in_last_6_months  \\\n",
       "count                                  71292.000000   \n",
       "mean                                       0.577190   \n",
       "std                                        1.074442   \n",
       "min                                        0.000000   \n",
       "25%                                        0.000000   \n",
       "50%                                        0.000000   \n",
       "75%                                        1.000000   \n",
       "max                                        7.000000   \n",
       "\n",
       "       No_of_times_90_DPD_or_worse_in_last_12_months  \\\n",
       "count                                   71292.000000   \n",
       "mean                                        0.450331   \n",
       "std                                         0.808380   \n",
       "min                                         0.000000   \n",
       "25%                                         0.000000   \n",
       "50%                                         0.000000   \n",
       "75%                                         1.000000   \n",
       "max                                         5.000000   \n",
       "\n",
       "       No_of_times_60_DPD_or_worse_in_last_12_months  \\\n",
       "count                                   71292.000000   \n",
       "mean                                        0.655459   \n",
       "std                                         1.089532   \n",
       "min                                         0.000000   \n",
       "25%                                         0.000000   \n",
       "50%                                         0.000000   \n",
       "75%                                         1.000000   \n",
       "max                                         7.000000   \n",
       "\n",
       "       No_of_times_30_DPD_or_worse_in_last_12_months  \\\n",
       "count                                   71292.000000   \n",
       "mean                                        0.800875   \n",
       "std                                         1.331932   \n",
       "min                                         0.000000   \n",
       "25%                                         0.000000   \n",
       "50%                                         0.000000   \n",
       "75%                                         1.000000   \n",
       "max                                         9.000000   \n",
       "\n",
       "       Avgas_CC_Utilization_in_last_12_months  \\\n",
       "count                            70234.000000   \n",
       "mean                                29.695347   \n",
       "std                                 29.531665   \n",
       "min                                  0.000000   \n",
       "25%                                  8.000000   \n",
       "50%                                 15.000000   \n",
       "75%                                 46.000000   \n",
       "max                                113.000000   \n",
       "\n",
       "       No_of_trades_opened_in_last_6_months  \\\n",
       "count                          71291.000000   \n",
       "mean                               2.298060   \n",
       "std                                2.070227   \n",
       "min                                0.000000   \n",
       "25%                                1.000000   \n",
       "50%                                2.000000   \n",
       "75%                                3.000000   \n",
       "max                               12.000000   \n",
       "\n",
       "       No_of_trades_opened_in_last_12_months  \\\n",
       "count                           71292.000000   \n",
       "mean                                5.826923   \n",
       "std                                 5.065188   \n",
       "min                                 0.000000   \n",
       "25%                                 2.000000   \n",
       "50%                                 5.000000   \n",
       "75%                                 9.000000   \n",
       "max                                28.000000   \n",
       "\n",
       "       No_of_PL_trades_opened_in_last_6_months  \\\n",
       "count                             71292.000000   \n",
       "mean                                  1.206924   \n",
       "std                                   1.352956   \n",
       "min                                   0.000000   \n",
       "25%                                   0.000000   \n",
       "50%                                   1.000000   \n",
       "75%                                   2.000000   \n",
       "max                                   6.000000   \n",
       "\n",
       "       No_of_PL_trades_opened_in_last_12_months  \\\n",
       "count                              71292.000000   \n",
       "mean                                   2.397450   \n",
       "std                                    2.420112   \n",
       "min                                    0.000000   \n",
       "25%                                    0.000000   \n",
       "50%                                    2.000000   \n",
       "75%                                    4.000000   \n",
       "max                                   12.000000   \n",
       "\n",
       "       No_of_Inquiries_in_last_6_months_(excluding_home_&_auto_loans)  \\\n",
       "count                                       71292.000000                \n",
       "mean                                            1.763550                \n",
       "std                                             1.971331                \n",
       "min                                             0.000000                \n",
       "25%                                             0.000000                \n",
       "50%                                             1.000000                \n",
       "75%                                             3.000000                \n",
       "max                                            10.000000                \n",
       "\n",
       "       No_of_Inquiries_in_last_12_months_(excluding_home_&_auto_loans)  \\\n",
       "count                                       71292.000000                 \n",
       "mean                                            3.535221                 \n",
       "std                                             3.582261                 \n",
       "min                                             0.000000                 \n",
       "25%                                             0.000000                 \n",
       "50%                                             3.000000                 \n",
       "75%                                             5.000000                 \n",
       "max                                            20.000000                 \n",
       "\n",
       "       Presence_of_open_home_loan  Outstanding_Balance  Total_No_of_Trades  \\\n",
       "count                71020.000000         7.102000e+04        71292.000000   \n",
       "mean                     0.256435         1.249195e+06            8.186711   \n",
       "std                      0.436668         1.278889e+06            7.090915   \n",
       "min                      0.000000         0.000000e+00            0.000000   \n",
       "25%                      0.000000         2.115370e+05            3.000000   \n",
       "50%                      0.000000         7.749945e+05            6.000000   \n",
       "75%                      1.000000         2.920797e+06           10.000000   \n",
       "max                      1.000000         5.218801e+06           44.000000   \n",
       "\n",
       "       Presence_of_open_auto_loan  Performance_Tag  \n",
       "count                71292.000000     69867.000000  \n",
       "mean                     0.084624         0.042180  \n",
       "std                      0.278323         0.201001  \n",
       "min                      0.000000         0.000000  \n",
       "25%                      0.000000         0.000000  \n",
       "50%                      0.000000         0.000000  \n",
       "75%                      0.000000         0.000000  \n",
       "max                      1.000000         1.000000  "
      ]
     },
     "execution_count": 15,
     "metadata": {},
     "output_type": "execute_result"
    }
   ],
   "source": [
    "credit.describe()"
   ]
  },
  {
   "cell_type": "code",
   "execution_count": 16,
   "metadata": {},
   "outputs": [
    {
     "data": {
      "text/plain": [
       "Application_ID                                                       int64\n",
       "No_of_times_90_DPD_or_worse_in_last_6_months                         int64\n",
       "No_of_times_60_DPD_or_worse_in_last_6_months                         int64\n",
       "No_of_times_30_DPD_or_worse_in_last_6_months                         int64\n",
       "No_of_times_90_DPD_or_worse_in_last_12_months                        int64\n",
       "No_of_times_60_DPD_or_worse_in_last_12_months                        int64\n",
       "No_of_times_30_DPD_or_worse_in_last_12_months                        int64\n",
       "Avgas_CC_Utilization_in_last_12_months                             float64\n",
       "No_of_trades_opened_in_last_6_months                               float64\n",
       "No_of_trades_opened_in_last_12_months                                int64\n",
       "No_of_PL_trades_opened_in_last_6_months                              int64\n",
       "No_of_PL_trades_opened_in_last_12_months                             int64\n",
       "No_of_Inquiries_in_last_6_months_(excluding_home_&_auto_loans)       int64\n",
       "No_of_Inquiries_in_last_12_months_(excluding_home_&_auto_loans)      int64\n",
       "Presence_of_open_home_loan                                         float64\n",
       "Outstanding_Balance                                                float64\n",
       "Total_No_of_Trades                                                   int64\n",
       "Presence_of_open_auto_loan                                           int64\n",
       "Performance_Tag                                                    float64\n",
       "dtype: object"
      ]
     },
     "execution_count": 16,
     "metadata": {},
     "output_type": "execute_result"
    }
   ],
   "source": [
    "credit.dtypes"
   ]
  },
  {
   "cell_type": "code",
   "execution_count": 17,
   "metadata": {},
   "outputs": [
    {
     "data": {
      "text/plain": [
       "Application_ID                                                        0\n",
       "No_of_times_90_DPD_or_worse_in_last_6_months                          0\n",
       "No_of_times_60_DPD_or_worse_in_last_6_months                          0\n",
       "No_of_times_30_DPD_or_worse_in_last_6_months                          0\n",
       "No_of_times_90_DPD_or_worse_in_last_12_months                         0\n",
       "No_of_times_60_DPD_or_worse_in_last_12_months                         0\n",
       "No_of_times_30_DPD_or_worse_in_last_12_months                         0\n",
       "Avgas_CC_Utilization_in_last_12_months                             1058\n",
       "No_of_trades_opened_in_last_6_months                                  1\n",
       "No_of_trades_opened_in_last_12_months                                 0\n",
       "No_of_PL_trades_opened_in_last_6_months                               0\n",
       "No_of_PL_trades_opened_in_last_12_months                              0\n",
       "No_of_Inquiries_in_last_6_months_(excluding_home_&_auto_loans)        0\n",
       "No_of_Inquiries_in_last_12_months_(excluding_home_&_auto_loans)       0\n",
       "Presence_of_open_home_loan                                          272\n",
       "Outstanding_Balance                                                 272\n",
       "Total_No_of_Trades                                                    0\n",
       "Presence_of_open_auto_loan                                            0\n",
       "Performance_Tag                                                    1425\n",
       "dtype: int64"
      ]
     },
     "execution_count": 17,
     "metadata": {},
     "output_type": "execute_result"
    }
   ],
   "source": [
    "credit.isnull().sum()"
   ]
  },
  {
   "cell_type": "code",
   "execution_count": 18,
   "metadata": {},
   "outputs": [
    {
     "data": {
      "text/html": [
       "<div>\n",
       "<style scoped>\n",
       "    .dataframe tbody tr th:only-of-type {\n",
       "        vertical-align: middle;\n",
       "    }\n",
       "\n",
       "    .dataframe tbody tr th {\n",
       "        vertical-align: top;\n",
       "    }\n",
       "\n",
       "    .dataframe thead th {\n",
       "        text-align: right;\n",
       "    }\n",
       "</style>\n",
       "<table border=\"1\" class=\"dataframe\">\n",
       "  <thead>\n",
       "    <tr style=\"text-align: right;\">\n",
       "      <th></th>\n",
       "      <th>Application_ID</th>\n",
       "      <th>Age</th>\n",
       "      <th>No_of_dependents</th>\n",
       "      <th>Income</th>\n",
       "      <th>No_of_months_in_current_residence</th>\n",
       "      <th>No_of_months_in_current_company</th>\n",
       "      <th>Performance_Tag</th>\n",
       "    </tr>\n",
       "  </thead>\n",
       "  <tbody>\n",
       "    <tr>\n",
       "      <th>count</th>\n",
       "      <td>7.129200e+04</td>\n",
       "      <td>71292.000000</td>\n",
       "      <td>71289.000000</td>\n",
       "      <td>71292.000000</td>\n",
       "      <td>71292.000000</td>\n",
       "      <td>71292.000000</td>\n",
       "      <td>69867.000000</td>\n",
       "    </tr>\n",
       "    <tr>\n",
       "      <th>mean</th>\n",
       "      <td>4.989518e+08</td>\n",
       "      <td>44.943037</td>\n",
       "      <td>2.865126</td>\n",
       "      <td>27.195758</td>\n",
       "      <td>34.563570</td>\n",
       "      <td>33.957976</td>\n",
       "      <td>0.042180</td>\n",
       "    </tr>\n",
       "    <tr>\n",
       "      <th>std</th>\n",
       "      <td>2.885936e+08</td>\n",
       "      <td>9.939266</td>\n",
       "      <td>1.382312</td>\n",
       "      <td>15.514524</td>\n",
       "      <td>36.760345</td>\n",
       "      <td>20.410377</td>\n",
       "      <td>0.201001</td>\n",
       "    </tr>\n",
       "    <tr>\n",
       "      <th>min</th>\n",
       "      <td>1.004500e+05</td>\n",
       "      <td>-3.000000</td>\n",
       "      <td>1.000000</td>\n",
       "      <td>-0.500000</td>\n",
       "      <td>6.000000</td>\n",
       "      <td>3.000000</td>\n",
       "      <td>0.000000</td>\n",
       "    </tr>\n",
       "    <tr>\n",
       "      <th>25%</th>\n",
       "      <td>2.483706e+08</td>\n",
       "      <td>37.000000</td>\n",
       "      <td>2.000000</td>\n",
       "      <td>14.000000</td>\n",
       "      <td>6.000000</td>\n",
       "      <td>16.000000</td>\n",
       "      <td>0.000000</td>\n",
       "    </tr>\n",
       "    <tr>\n",
       "      <th>50%</th>\n",
       "      <td>4.975655e+08</td>\n",
       "      <td>45.000000</td>\n",
       "      <td>3.000000</td>\n",
       "      <td>27.000000</td>\n",
       "      <td>11.000000</td>\n",
       "      <td>34.000000</td>\n",
       "      <td>0.000000</td>\n",
       "    </tr>\n",
       "    <tr>\n",
       "      <th>75%</th>\n",
       "      <td>7.495782e+08</td>\n",
       "      <td>53.000000</td>\n",
       "      <td>4.000000</td>\n",
       "      <td>40.000000</td>\n",
       "      <td>60.000000</td>\n",
       "      <td>51.000000</td>\n",
       "      <td>0.000000</td>\n",
       "    </tr>\n",
       "    <tr>\n",
       "      <th>max</th>\n",
       "      <td>1.000084e+09</td>\n",
       "      <td>65.000000</td>\n",
       "      <td>5.000000</td>\n",
       "      <td>60.000000</td>\n",
       "      <td>126.000000</td>\n",
       "      <td>133.000000</td>\n",
       "      <td>1.000000</td>\n",
       "    </tr>\n",
       "  </tbody>\n",
       "</table>\n",
       "</div>"
      ],
      "text/plain": [
       "       Application_ID           Age  No_of_dependents        Income  \\\n",
       "count    7.129200e+04  71292.000000      71289.000000  71292.000000   \n",
       "mean     4.989518e+08     44.943037          2.865126     27.195758   \n",
       "std      2.885936e+08      9.939266          1.382312     15.514524   \n",
       "min      1.004500e+05     -3.000000          1.000000     -0.500000   \n",
       "25%      2.483706e+08     37.000000          2.000000     14.000000   \n",
       "50%      4.975655e+08     45.000000          3.000000     27.000000   \n",
       "75%      7.495782e+08     53.000000          4.000000     40.000000   \n",
       "max      1.000084e+09     65.000000          5.000000     60.000000   \n",
       "\n",
       "       No_of_months_in_current_residence  No_of_months_in_current_company  \\\n",
       "count                       71292.000000                     71292.000000   \n",
       "mean                           34.563570                        33.957976   \n",
       "std                            36.760345                        20.410377   \n",
       "min                             6.000000                         3.000000   \n",
       "25%                             6.000000                        16.000000   \n",
       "50%                            11.000000                        34.000000   \n",
       "75%                            60.000000                        51.000000   \n",
       "max                           126.000000                       133.000000   \n",
       "\n",
       "       Performance_Tag  \n",
       "count     69867.000000  \n",
       "mean          0.042180  \n",
       "std           0.201001  \n",
       "min           0.000000  \n",
       "25%           0.000000  \n",
       "50%           0.000000  \n",
       "75%           0.000000  \n",
       "max           1.000000  "
      ]
     },
     "execution_count": 18,
     "metadata": {},
     "output_type": "execute_result"
    }
   ],
   "source": [
    "demo.describe()"
   ]
  },
  {
   "cell_type": "code",
   "execution_count": 19,
   "metadata": {},
   "outputs": [
    {
     "data": {
      "text/plain": [
       "(71292, 12)"
      ]
     },
     "execution_count": 19,
     "metadata": {},
     "output_type": "execute_result"
    }
   ],
   "source": [
    "demo.shape"
   ]
  },
  {
   "cell_type": "code",
   "execution_count": 20,
   "metadata": {},
   "outputs": [
    {
     "data": {
      "text/plain": [
       "Application_ID                                   int64\n",
       "Age                                              int64\n",
       "Gender                                          object\n",
       "Marital_Status_(at_the_time_of_application)     object\n",
       "No_of_dependents                               float64\n",
       "Income                                         float64\n",
       "Education                                       object\n",
       "Profession_                                     object\n",
       "Type_of_residence                               object\n",
       "No_of_months_in_current_residence                int64\n",
       "No_of_months_in_current_company                  int64\n",
       "Performance_Tag                                float64\n",
       "dtype: object"
      ]
     },
     "execution_count": 20,
     "metadata": {},
     "output_type": "execute_result"
    }
   ],
   "source": [
    "demo.dtypes"
   ]
  },
  {
   "cell_type": "code",
   "execution_count": 21,
   "metadata": {},
   "outputs": [
    {
     "data": {
      "text/plain": [
       "Application_ID                                    0\n",
       "Age                                               0\n",
       "Gender                                            2\n",
       "Marital_Status_(at_the_time_of_application)       6\n",
       "No_of_dependents                                  3\n",
       "Income                                            0\n",
       "Education                                       119\n",
       "Profession_                                      14\n",
       "Type_of_residence                                 8\n",
       "No_of_months_in_current_residence                 0\n",
       "No_of_months_in_current_company                   0\n",
       "Performance_Tag                                1425\n",
       "dtype: int64"
      ]
     },
     "execution_count": 21,
     "metadata": {},
     "output_type": "execute_result"
    }
   ],
   "source": [
    "demo.isnull().sum()"
   ]
  },
  {
   "cell_type": "code",
   "execution_count": 22,
   "metadata": {},
   "outputs": [],
   "source": [
    "# Create a master table\n",
    "master = pd.merge(credit, demo, on='Application_ID', how='inner', suffixes=('_credit', '_demo'), validate='one_to_one')"
   ]
  },
  {
   "cell_type": "code",
   "execution_count": 23,
   "metadata": {},
   "outputs": [
    {
     "data": {
      "text/plain": [
       "(71292, 30)"
      ]
     },
     "execution_count": 23,
     "metadata": {},
     "output_type": "execute_result"
    }
   ],
   "source": [
    "master.shape"
   ]
  },
  {
   "cell_type": "code",
   "execution_count": 24,
   "metadata": {},
   "outputs": [
    {
     "data": {
      "text/plain": [
       "Index(['Application_ID', 'No_of_times_90_DPD_or_worse_in_last_6_months',\n",
       "       'No_of_times_60_DPD_or_worse_in_last_6_months',\n",
       "       'No_of_times_30_DPD_or_worse_in_last_6_months',\n",
       "       'No_of_times_90_DPD_or_worse_in_last_12_months',\n",
       "       'No_of_times_60_DPD_or_worse_in_last_12_months',\n",
       "       'No_of_times_30_DPD_or_worse_in_last_12_months',\n",
       "       'Avgas_CC_Utilization_in_last_12_months',\n",
       "       'No_of_trades_opened_in_last_6_months',\n",
       "       'No_of_trades_opened_in_last_12_months',\n",
       "       'No_of_PL_trades_opened_in_last_6_months',\n",
       "       'No_of_PL_trades_opened_in_last_12_months',\n",
       "       'No_of_Inquiries_in_last_6_months_(excluding_home_&_auto_loans)',\n",
       "       'No_of_Inquiries_in_last_12_months_(excluding_home_&_auto_loans)',\n",
       "       'Presence_of_open_home_loan', 'Outstanding_Balance',\n",
       "       'Total_No_of_Trades', 'Presence_of_open_auto_loan',\n",
       "       'Performance_Tag_credit', 'Age', 'Gender',\n",
       "       'Marital_Status_(at_the_time_of_application)', 'No_of_dependents',\n",
       "       'Income', 'Education', 'Profession_', 'Type_of_residence',\n",
       "       'No_of_months_in_current_residence', 'No_of_months_in_current_company',\n",
       "       'Performance_Tag_demo'],\n",
       "      dtype='object')"
      ]
     },
     "execution_count": 24,
     "metadata": {},
     "output_type": "execute_result"
    }
   ],
   "source": [
    "master.columns"
   ]
  },
  {
   "cell_type": "code",
   "execution_count": 25,
   "metadata": {},
   "outputs": [
    {
     "data": {
      "text/html": [
       "<div>\n",
       "<style scoped>\n",
       "    .dataframe tbody tr th:only-of-type {\n",
       "        vertical-align: middle;\n",
       "    }\n",
       "\n",
       "    .dataframe tbody tr th {\n",
       "        vertical-align: top;\n",
       "    }\n",
       "\n",
       "    .dataframe thead th {\n",
       "        text-align: right;\n",
       "    }\n",
       "</style>\n",
       "<table border=\"1\" class=\"dataframe\">\n",
       "  <thead>\n",
       "    <tr style=\"text-align: right;\">\n",
       "      <th></th>\n",
       "      <th>Application_ID</th>\n",
       "      <th>No_of_times_90_DPD_or_worse_in_last_6_months</th>\n",
       "      <th>No_of_times_60_DPD_or_worse_in_last_6_months</th>\n",
       "      <th>No_of_times_30_DPD_or_worse_in_last_6_months</th>\n",
       "      <th>No_of_times_90_DPD_or_worse_in_last_12_months</th>\n",
       "      <th>No_of_times_60_DPD_or_worse_in_last_12_months</th>\n",
       "      <th>No_of_times_30_DPD_or_worse_in_last_12_months</th>\n",
       "      <th>Avgas_CC_Utilization_in_last_12_months</th>\n",
       "      <th>No_of_trades_opened_in_last_6_months</th>\n",
       "      <th>No_of_trades_opened_in_last_12_months</th>\n",
       "      <th>No_of_PL_trades_opened_in_last_6_months</th>\n",
       "      <th>No_of_PL_trades_opened_in_last_12_months</th>\n",
       "      <th>No_of_Inquiries_in_last_6_months_(excluding_home_&amp;_auto_loans)</th>\n",
       "      <th>No_of_Inquiries_in_last_12_months_(excluding_home_&amp;_auto_loans)</th>\n",
       "      <th>Presence_of_open_home_loan</th>\n",
       "      <th>Outstanding_Balance</th>\n",
       "      <th>Total_No_of_Trades</th>\n",
       "      <th>Presence_of_open_auto_loan</th>\n",
       "      <th>Performance_Tag_credit</th>\n",
       "      <th>Age</th>\n",
       "      <th>Gender</th>\n",
       "      <th>Marital_Status_(at_the_time_of_application)</th>\n",
       "      <th>No_of_dependents</th>\n",
       "      <th>Income</th>\n",
       "      <th>Education</th>\n",
       "      <th>Profession_</th>\n",
       "      <th>Type_of_residence</th>\n",
       "      <th>No_of_months_in_current_residence</th>\n",
       "      <th>No_of_months_in_current_company</th>\n",
       "      <th>Performance_Tag_demo</th>\n",
       "    </tr>\n",
       "  </thead>\n",
       "  <tbody>\n",
       "    <tr>\n",
       "      <th>0</th>\n",
       "      <td>954457215</td>\n",
       "      <td>0</td>\n",
       "      <td>0</td>\n",
       "      <td>0</td>\n",
       "      <td>0</td>\n",
       "      <td>0</td>\n",
       "      <td>0</td>\n",
       "      <td>4.0</td>\n",
       "      <td>1.0</td>\n",
       "      <td>2</td>\n",
       "      <td>0</td>\n",
       "      <td>0</td>\n",
       "      <td>0</td>\n",
       "      <td>0</td>\n",
       "      <td>1.0</td>\n",
       "      <td>2999395.0</td>\n",
       "      <td>4</td>\n",
       "      <td>0</td>\n",
       "      <td>0.0</td>\n",
       "      <td>48</td>\n",
       "      <td>F</td>\n",
       "      <td>Married</td>\n",
       "      <td>2.0</td>\n",
       "      <td>40.0</td>\n",
       "      <td>Bachelor</td>\n",
       "      <td>SAL</td>\n",
       "      <td>Rented</td>\n",
       "      <td>113</td>\n",
       "      <td>56</td>\n",
       "      <td>0.0</td>\n",
       "    </tr>\n",
       "    <tr>\n",
       "      <th>1</th>\n",
       "      <td>432830445</td>\n",
       "      <td>0</td>\n",
       "      <td>0</td>\n",
       "      <td>0</td>\n",
       "      <td>0</td>\n",
       "      <td>0</td>\n",
       "      <td>0</td>\n",
       "      <td>3.0</td>\n",
       "      <td>1.0</td>\n",
       "      <td>2</td>\n",
       "      <td>0</td>\n",
       "      <td>0</td>\n",
       "      <td>0</td>\n",
       "      <td>0</td>\n",
       "      <td>0.0</td>\n",
       "      <td>3078.0</td>\n",
       "      <td>5</td>\n",
       "      <td>0</td>\n",
       "      <td>0.0</td>\n",
       "      <td>31</td>\n",
       "      <td>M</td>\n",
       "      <td>Married</td>\n",
       "      <td>4.0</td>\n",
       "      <td>55.0</td>\n",
       "      <td>Professional</td>\n",
       "      <td>SE_PROF</td>\n",
       "      <td>Rented</td>\n",
       "      <td>112</td>\n",
       "      <td>46</td>\n",
       "      <td>0.0</td>\n",
       "    </tr>\n",
       "    <tr>\n",
       "      <th>2</th>\n",
       "      <td>941387308</td>\n",
       "      <td>0</td>\n",
       "      <td>0</td>\n",
       "      <td>0</td>\n",
       "      <td>0</td>\n",
       "      <td>0</td>\n",
       "      <td>0</td>\n",
       "      <td>7.0</td>\n",
       "      <td>0.0</td>\n",
       "      <td>0</td>\n",
       "      <td>0</td>\n",
       "      <td>0</td>\n",
       "      <td>0</td>\n",
       "      <td>0</td>\n",
       "      <td>1.0</td>\n",
       "      <td>3004972.0</td>\n",
       "      <td>2</td>\n",
       "      <td>0</td>\n",
       "      <td>0.0</td>\n",
       "      <td>32</td>\n",
       "      <td>M</td>\n",
       "      <td>Single</td>\n",
       "      <td>2.0</td>\n",
       "      <td>46.0</td>\n",
       "      <td>Bachelor</td>\n",
       "      <td>SE_PROF</td>\n",
       "      <td>Rented</td>\n",
       "      <td>104</td>\n",
       "      <td>49</td>\n",
       "      <td>0.0</td>\n",
       "    </tr>\n",
       "    <tr>\n",
       "      <th>3</th>\n",
       "      <td>392161677</td>\n",
       "      <td>0</td>\n",
       "      <td>0</td>\n",
       "      <td>0</td>\n",
       "      <td>0</td>\n",
       "      <td>0</td>\n",
       "      <td>0</td>\n",
       "      <td>11.0</td>\n",
       "      <td>1.0</td>\n",
       "      <td>1</td>\n",
       "      <td>0</td>\n",
       "      <td>0</td>\n",
       "      <td>0</td>\n",
       "      <td>0</td>\n",
       "      <td>1.0</td>\n",
       "      <td>3355373.0</td>\n",
       "      <td>4</td>\n",
       "      <td>1</td>\n",
       "      <td>0.0</td>\n",
       "      <td>43</td>\n",
       "      <td>M</td>\n",
       "      <td>Married</td>\n",
       "      <td>1.0</td>\n",
       "      <td>53.0</td>\n",
       "      <td>Bachelor</td>\n",
       "      <td>SE</td>\n",
       "      <td>Rented</td>\n",
       "      <td>94</td>\n",
       "      <td>53</td>\n",
       "      <td>0.0</td>\n",
       "    </tr>\n",
       "    <tr>\n",
       "      <th>4</th>\n",
       "      <td>182011211</td>\n",
       "      <td>0</td>\n",
       "      <td>0</td>\n",
       "      <td>0</td>\n",
       "      <td>0</td>\n",
       "      <td>0</td>\n",
       "      <td>0</td>\n",
       "      <td>12.0</td>\n",
       "      <td>0.0</td>\n",
       "      <td>1</td>\n",
       "      <td>0</td>\n",
       "      <td>0</td>\n",
       "      <td>0</td>\n",
       "      <td>0</td>\n",
       "      <td>1.0</td>\n",
       "      <td>3014283.0</td>\n",
       "      <td>4</td>\n",
       "      <td>0</td>\n",
       "      <td>0.0</td>\n",
       "      <td>35</td>\n",
       "      <td>F</td>\n",
       "      <td>Married</td>\n",
       "      <td>5.0</td>\n",
       "      <td>44.0</td>\n",
       "      <td>Professional</td>\n",
       "      <td>SAL</td>\n",
       "      <td>Rented</td>\n",
       "      <td>112</td>\n",
       "      <td>43</td>\n",
       "      <td>0.0</td>\n",
       "    </tr>\n",
       "  </tbody>\n",
       "</table>\n",
       "</div>"
      ],
      "text/plain": [
       "   Application_ID  No_of_times_90_DPD_or_worse_in_last_6_months  \\\n",
       "0       954457215                                             0   \n",
       "1       432830445                                             0   \n",
       "2       941387308                                             0   \n",
       "3       392161677                                             0   \n",
       "4       182011211                                             0   \n",
       "\n",
       "   No_of_times_60_DPD_or_worse_in_last_6_months  \\\n",
       "0                                             0   \n",
       "1                                             0   \n",
       "2                                             0   \n",
       "3                                             0   \n",
       "4                                             0   \n",
       "\n",
       "   No_of_times_30_DPD_or_worse_in_last_6_months  \\\n",
       "0                                             0   \n",
       "1                                             0   \n",
       "2                                             0   \n",
       "3                                             0   \n",
       "4                                             0   \n",
       "\n",
       "   No_of_times_90_DPD_or_worse_in_last_12_months  \\\n",
       "0                                              0   \n",
       "1                                              0   \n",
       "2                                              0   \n",
       "3                                              0   \n",
       "4                                              0   \n",
       "\n",
       "   No_of_times_60_DPD_or_worse_in_last_12_months  \\\n",
       "0                                              0   \n",
       "1                                              0   \n",
       "2                                              0   \n",
       "3                                              0   \n",
       "4                                              0   \n",
       "\n",
       "   No_of_times_30_DPD_or_worse_in_last_12_months  \\\n",
       "0                                              0   \n",
       "1                                              0   \n",
       "2                                              0   \n",
       "3                                              0   \n",
       "4                                              0   \n",
       "\n",
       "   Avgas_CC_Utilization_in_last_12_months  \\\n",
       "0                                     4.0   \n",
       "1                                     3.0   \n",
       "2                                     7.0   \n",
       "3                                    11.0   \n",
       "4                                    12.0   \n",
       "\n",
       "   No_of_trades_opened_in_last_6_months  \\\n",
       "0                                   1.0   \n",
       "1                                   1.0   \n",
       "2                                   0.0   \n",
       "3                                   1.0   \n",
       "4                                   0.0   \n",
       "\n",
       "   No_of_trades_opened_in_last_12_months  \\\n",
       "0                                      2   \n",
       "1                                      2   \n",
       "2                                      0   \n",
       "3                                      1   \n",
       "4                                      1   \n",
       "\n",
       "   No_of_PL_trades_opened_in_last_6_months  \\\n",
       "0                                        0   \n",
       "1                                        0   \n",
       "2                                        0   \n",
       "3                                        0   \n",
       "4                                        0   \n",
       "\n",
       "   No_of_PL_trades_opened_in_last_12_months  \\\n",
       "0                                         0   \n",
       "1                                         0   \n",
       "2                                         0   \n",
       "3                                         0   \n",
       "4                                         0   \n",
       "\n",
       "   No_of_Inquiries_in_last_6_months_(excluding_home_&_auto_loans)  \\\n",
       "0                                                  0                \n",
       "1                                                  0                \n",
       "2                                                  0                \n",
       "3                                                  0                \n",
       "4                                                  0                \n",
       "\n",
       "   No_of_Inquiries_in_last_12_months_(excluding_home_&_auto_loans)  \\\n",
       "0                                                  0                 \n",
       "1                                                  0                 \n",
       "2                                                  0                 \n",
       "3                                                  0                 \n",
       "4                                                  0                 \n",
       "\n",
       "   Presence_of_open_home_loan  Outstanding_Balance  Total_No_of_Trades  \\\n",
       "0                         1.0            2999395.0                   4   \n",
       "1                         0.0               3078.0                   5   \n",
       "2                         1.0            3004972.0                   2   \n",
       "3                         1.0            3355373.0                   4   \n",
       "4                         1.0            3014283.0                   4   \n",
       "\n",
       "   Presence_of_open_auto_loan  Performance_Tag_credit  Age Gender  \\\n",
       "0                           0                     0.0   48      F   \n",
       "1                           0                     0.0   31      M   \n",
       "2                           0                     0.0   32      M   \n",
       "3                           1                     0.0   43      M   \n",
       "4                           0                     0.0   35      F   \n",
       "\n",
       "  Marital_Status_(at_the_time_of_application)  No_of_dependents  Income  \\\n",
       "0                                     Married               2.0    40.0   \n",
       "1                                     Married               4.0    55.0   \n",
       "2                                      Single               2.0    46.0   \n",
       "3                                     Married               1.0    53.0   \n",
       "4                                     Married               5.0    44.0   \n",
       "\n",
       "      Education Profession_ Type_of_residence  \\\n",
       "0      Bachelor         SAL            Rented   \n",
       "1  Professional     SE_PROF            Rented   \n",
       "2      Bachelor     SE_PROF            Rented   \n",
       "3      Bachelor          SE            Rented   \n",
       "4  Professional         SAL            Rented   \n",
       "\n",
       "   No_of_months_in_current_residence  No_of_months_in_current_company  \\\n",
       "0                                113                               56   \n",
       "1                                112                               46   \n",
       "2                                104                               49   \n",
       "3                                 94                               53   \n",
       "4                                112                               43   \n",
       "\n",
       "   Performance_Tag_demo  \n",
       "0                   0.0  \n",
       "1                   0.0  \n",
       "2                   0.0  \n",
       "3                   0.0  \n",
       "4                   0.0  "
      ]
     },
     "execution_count": 25,
     "metadata": {},
     "output_type": "execute_result"
    }
   ],
   "source": [
    "master.head()"
   ]
  },
  {
   "cell_type": "code",
   "execution_count": 26,
   "metadata": {},
   "outputs": [],
   "source": [
    "# Performance tag\n",
    "perf_tag = master[['Performance_Tag_credit','Performance_Tag_demo']]"
   ]
  },
  {
   "cell_type": "code",
   "execution_count": 27,
   "metadata": {},
   "outputs": [
    {
     "data": {
      "text/html": [
       "<div>\n",
       "<style scoped>\n",
       "    .dataframe tbody tr th:only-of-type {\n",
       "        vertical-align: middle;\n",
       "    }\n",
       "\n",
       "    .dataframe tbody tr th {\n",
       "        vertical-align: top;\n",
       "    }\n",
       "\n",
       "    .dataframe thead th {\n",
       "        text-align: right;\n",
       "    }\n",
       "</style>\n",
       "<table border=\"1\" class=\"dataframe\">\n",
       "  <thead>\n",
       "    <tr style=\"text-align: right;\">\n",
       "      <th></th>\n",
       "      <th>Performance_Tag_credit</th>\n",
       "      <th>Performance_Tag_demo</th>\n",
       "    </tr>\n",
       "  </thead>\n",
       "  <tbody>\n",
       "    <tr>\n",
       "      <th>count</th>\n",
       "      <td>69867.000000</td>\n",
       "      <td>69867.000000</td>\n",
       "    </tr>\n",
       "    <tr>\n",
       "      <th>mean</th>\n",
       "      <td>0.042180</td>\n",
       "      <td>0.042180</td>\n",
       "    </tr>\n",
       "    <tr>\n",
       "      <th>std</th>\n",
       "      <td>0.201001</td>\n",
       "      <td>0.201001</td>\n",
       "    </tr>\n",
       "    <tr>\n",
       "      <th>min</th>\n",
       "      <td>0.000000</td>\n",
       "      <td>0.000000</td>\n",
       "    </tr>\n",
       "    <tr>\n",
       "      <th>25%</th>\n",
       "      <td>0.000000</td>\n",
       "      <td>0.000000</td>\n",
       "    </tr>\n",
       "    <tr>\n",
       "      <th>50%</th>\n",
       "      <td>0.000000</td>\n",
       "      <td>0.000000</td>\n",
       "    </tr>\n",
       "    <tr>\n",
       "      <th>75%</th>\n",
       "      <td>0.000000</td>\n",
       "      <td>0.000000</td>\n",
       "    </tr>\n",
       "    <tr>\n",
       "      <th>max</th>\n",
       "      <td>1.000000</td>\n",
       "      <td>1.000000</td>\n",
       "    </tr>\n",
       "  </tbody>\n",
       "</table>\n",
       "</div>"
      ],
      "text/plain": [
       "       Performance_Tag_credit  Performance_Tag_demo\n",
       "count            69867.000000          69867.000000\n",
       "mean                 0.042180              0.042180\n",
       "std                  0.201001              0.201001\n",
       "min                  0.000000              0.000000\n",
       "25%                  0.000000              0.000000\n",
       "50%                  0.000000              0.000000\n",
       "75%                  0.000000              0.000000\n",
       "max                  1.000000              1.000000"
      ]
     },
     "execution_count": 27,
     "metadata": {},
     "output_type": "execute_result"
    }
   ],
   "source": [
    "perf_tag.describe()"
   ]
  },
  {
   "cell_type": "code",
   "execution_count": 28,
   "metadata": {},
   "outputs": [],
   "source": [
    "perf_tag = perf_tag.fillna(-1.0)"
   ]
  },
  {
   "cell_type": "code",
   "execution_count": 29,
   "metadata": {},
   "outputs": [
    {
     "data": {
      "text/html": [
       "<div>\n",
       "<style scoped>\n",
       "    .dataframe tbody tr th:only-of-type {\n",
       "        vertical-align: middle;\n",
       "    }\n",
       "\n",
       "    .dataframe tbody tr th {\n",
       "        vertical-align: top;\n",
       "    }\n",
       "\n",
       "    .dataframe thead th {\n",
       "        text-align: right;\n",
       "    }\n",
       "</style>\n",
       "<table border=\"1\" class=\"dataframe\">\n",
       "  <thead>\n",
       "    <tr style=\"text-align: right;\">\n",
       "      <th></th>\n",
       "      <th>Performance_Tag_credit</th>\n",
       "      <th>Performance_Tag_demo</th>\n",
       "    </tr>\n",
       "  </thead>\n",
       "  <tbody>\n",
       "    <tr>\n",
       "      <th>count</th>\n",
       "      <td>71292.000000</td>\n",
       "      <td>71292.000000</td>\n",
       "    </tr>\n",
       "    <tr>\n",
       "      <th>mean</th>\n",
       "      <td>0.021349</td>\n",
       "      <td>0.021349</td>\n",
       "    </tr>\n",
       "    <tr>\n",
       "      <th>std</th>\n",
       "      <td>0.246719</td>\n",
       "      <td>0.246719</td>\n",
       "    </tr>\n",
       "    <tr>\n",
       "      <th>min</th>\n",
       "      <td>-1.000000</td>\n",
       "      <td>-1.000000</td>\n",
       "    </tr>\n",
       "    <tr>\n",
       "      <th>25%</th>\n",
       "      <td>0.000000</td>\n",
       "      <td>0.000000</td>\n",
       "    </tr>\n",
       "    <tr>\n",
       "      <th>50%</th>\n",
       "      <td>0.000000</td>\n",
       "      <td>0.000000</td>\n",
       "    </tr>\n",
       "    <tr>\n",
       "      <th>75%</th>\n",
       "      <td>0.000000</td>\n",
       "      <td>0.000000</td>\n",
       "    </tr>\n",
       "    <tr>\n",
       "      <th>max</th>\n",
       "      <td>1.000000</td>\n",
       "      <td>1.000000</td>\n",
       "    </tr>\n",
       "  </tbody>\n",
       "</table>\n",
       "</div>"
      ],
      "text/plain": [
       "       Performance_Tag_credit  Performance_Tag_demo\n",
       "count            71292.000000          71292.000000\n",
       "mean                 0.021349              0.021349\n",
       "std                  0.246719              0.246719\n",
       "min                 -1.000000             -1.000000\n",
       "25%                  0.000000              0.000000\n",
       "50%                  0.000000              0.000000\n",
       "75%                  0.000000              0.000000\n",
       "max                  1.000000              1.000000"
      ]
     },
     "execution_count": 29,
     "metadata": {},
     "output_type": "execute_result"
    }
   ],
   "source": [
    "perf_tag.describe()"
   ]
  },
  {
   "cell_type": "code",
   "execution_count": 30,
   "metadata": {},
   "outputs": [
    {
     "data": {
      "text/plain": [
       "0.0"
      ]
     },
     "execution_count": 30,
     "metadata": {},
     "output_type": "execute_result"
    }
   ],
   "source": [
    "np.sum(perf_tag['Performance_Tag_credit'] - perf_tag['Performance_Tag_demo'])"
   ]
  },
  {
   "cell_type": "code",
   "execution_count": 31,
   "metadata": {},
   "outputs": [],
   "source": [
    "master = master.drop('Performance_Tag_demo', axis=1)"
   ]
  },
  {
   "cell_type": "code",
   "execution_count": 32,
   "metadata": {},
   "outputs": [
    {
     "data": {
      "text/plain": [
       "(71292, 29)"
      ]
     },
     "execution_count": 32,
     "metadata": {},
     "output_type": "execute_result"
    }
   ],
   "source": [
    "master.shape"
   ]
  },
  {
   "cell_type": "code",
   "execution_count": 33,
   "metadata": {},
   "outputs": [
    {
     "data": {
      "text/html": [
       "<div>\n",
       "<style scoped>\n",
       "    .dataframe tbody tr th:only-of-type {\n",
       "        vertical-align: middle;\n",
       "    }\n",
       "\n",
       "    .dataframe tbody tr th {\n",
       "        vertical-align: top;\n",
       "    }\n",
       "\n",
       "    .dataframe thead th {\n",
       "        text-align: right;\n",
       "    }\n",
       "</style>\n",
       "<table border=\"1\" class=\"dataframe\">\n",
       "  <thead>\n",
       "    <tr style=\"text-align: right;\">\n",
       "      <th></th>\n",
       "      <th>Application_ID</th>\n",
       "      <th>No_of_times_90_DPD_or_worse_in_last_6_months</th>\n",
       "      <th>No_of_times_60_DPD_or_worse_in_last_6_months</th>\n",
       "      <th>No_of_times_30_DPD_or_worse_in_last_6_months</th>\n",
       "      <th>No_of_times_90_DPD_or_worse_in_last_12_months</th>\n",
       "      <th>No_of_times_60_DPD_or_worse_in_last_12_months</th>\n",
       "      <th>No_of_times_30_DPD_or_worse_in_last_12_months</th>\n",
       "      <th>Avgas_CC_Utilization_in_last_12_months</th>\n",
       "      <th>No_of_trades_opened_in_last_6_months</th>\n",
       "      <th>No_of_trades_opened_in_last_12_months</th>\n",
       "      <th>No_of_PL_trades_opened_in_last_6_months</th>\n",
       "      <th>No_of_PL_trades_opened_in_last_12_months</th>\n",
       "      <th>No_of_Inquiries_in_last_6_months_(excluding_home_&amp;_auto_loans)</th>\n",
       "      <th>No_of_Inquiries_in_last_12_months_(excluding_home_&amp;_auto_loans)</th>\n",
       "      <th>Presence_of_open_home_loan</th>\n",
       "      <th>Outstanding_Balance</th>\n",
       "      <th>Total_No_of_Trades</th>\n",
       "      <th>Presence_of_open_auto_loan</th>\n",
       "      <th>Performance_Tag_credit</th>\n",
       "      <th>Age</th>\n",
       "      <th>Gender</th>\n",
       "      <th>Marital_Status_(at_the_time_of_application)</th>\n",
       "      <th>No_of_dependents</th>\n",
       "      <th>Income</th>\n",
       "      <th>Education</th>\n",
       "      <th>Profession_</th>\n",
       "      <th>Type_of_residence</th>\n",
       "      <th>No_of_months_in_current_residence</th>\n",
       "      <th>No_of_months_in_current_company</th>\n",
       "    </tr>\n",
       "  </thead>\n",
       "  <tbody>\n",
       "    <tr>\n",
       "      <th>0</th>\n",
       "      <td>954457215</td>\n",
       "      <td>0</td>\n",
       "      <td>0</td>\n",
       "      <td>0</td>\n",
       "      <td>0</td>\n",
       "      <td>0</td>\n",
       "      <td>0</td>\n",
       "      <td>4.0</td>\n",
       "      <td>1.0</td>\n",
       "      <td>2</td>\n",
       "      <td>0</td>\n",
       "      <td>0</td>\n",
       "      <td>0</td>\n",
       "      <td>0</td>\n",
       "      <td>1.0</td>\n",
       "      <td>2999395.0</td>\n",
       "      <td>4</td>\n",
       "      <td>0</td>\n",
       "      <td>0.0</td>\n",
       "      <td>48</td>\n",
       "      <td>F</td>\n",
       "      <td>Married</td>\n",
       "      <td>2.0</td>\n",
       "      <td>40.0</td>\n",
       "      <td>Bachelor</td>\n",
       "      <td>SAL</td>\n",
       "      <td>Rented</td>\n",
       "      <td>113</td>\n",
       "      <td>56</td>\n",
       "    </tr>\n",
       "    <tr>\n",
       "      <th>1</th>\n",
       "      <td>432830445</td>\n",
       "      <td>0</td>\n",
       "      <td>0</td>\n",
       "      <td>0</td>\n",
       "      <td>0</td>\n",
       "      <td>0</td>\n",
       "      <td>0</td>\n",
       "      <td>3.0</td>\n",
       "      <td>1.0</td>\n",
       "      <td>2</td>\n",
       "      <td>0</td>\n",
       "      <td>0</td>\n",
       "      <td>0</td>\n",
       "      <td>0</td>\n",
       "      <td>0.0</td>\n",
       "      <td>3078.0</td>\n",
       "      <td>5</td>\n",
       "      <td>0</td>\n",
       "      <td>0.0</td>\n",
       "      <td>31</td>\n",
       "      <td>M</td>\n",
       "      <td>Married</td>\n",
       "      <td>4.0</td>\n",
       "      <td>55.0</td>\n",
       "      <td>Professional</td>\n",
       "      <td>SE_PROF</td>\n",
       "      <td>Rented</td>\n",
       "      <td>112</td>\n",
       "      <td>46</td>\n",
       "    </tr>\n",
       "    <tr>\n",
       "      <th>2</th>\n",
       "      <td>941387308</td>\n",
       "      <td>0</td>\n",
       "      <td>0</td>\n",
       "      <td>0</td>\n",
       "      <td>0</td>\n",
       "      <td>0</td>\n",
       "      <td>0</td>\n",
       "      <td>7.0</td>\n",
       "      <td>0.0</td>\n",
       "      <td>0</td>\n",
       "      <td>0</td>\n",
       "      <td>0</td>\n",
       "      <td>0</td>\n",
       "      <td>0</td>\n",
       "      <td>1.0</td>\n",
       "      <td>3004972.0</td>\n",
       "      <td>2</td>\n",
       "      <td>0</td>\n",
       "      <td>0.0</td>\n",
       "      <td>32</td>\n",
       "      <td>M</td>\n",
       "      <td>Single</td>\n",
       "      <td>2.0</td>\n",
       "      <td>46.0</td>\n",
       "      <td>Bachelor</td>\n",
       "      <td>SE_PROF</td>\n",
       "      <td>Rented</td>\n",
       "      <td>104</td>\n",
       "      <td>49</td>\n",
       "    </tr>\n",
       "    <tr>\n",
       "      <th>3</th>\n",
       "      <td>392161677</td>\n",
       "      <td>0</td>\n",
       "      <td>0</td>\n",
       "      <td>0</td>\n",
       "      <td>0</td>\n",
       "      <td>0</td>\n",
       "      <td>0</td>\n",
       "      <td>11.0</td>\n",
       "      <td>1.0</td>\n",
       "      <td>1</td>\n",
       "      <td>0</td>\n",
       "      <td>0</td>\n",
       "      <td>0</td>\n",
       "      <td>0</td>\n",
       "      <td>1.0</td>\n",
       "      <td>3355373.0</td>\n",
       "      <td>4</td>\n",
       "      <td>1</td>\n",
       "      <td>0.0</td>\n",
       "      <td>43</td>\n",
       "      <td>M</td>\n",
       "      <td>Married</td>\n",
       "      <td>1.0</td>\n",
       "      <td>53.0</td>\n",
       "      <td>Bachelor</td>\n",
       "      <td>SE</td>\n",
       "      <td>Rented</td>\n",
       "      <td>94</td>\n",
       "      <td>53</td>\n",
       "    </tr>\n",
       "    <tr>\n",
       "      <th>4</th>\n",
       "      <td>182011211</td>\n",
       "      <td>0</td>\n",
       "      <td>0</td>\n",
       "      <td>0</td>\n",
       "      <td>0</td>\n",
       "      <td>0</td>\n",
       "      <td>0</td>\n",
       "      <td>12.0</td>\n",
       "      <td>0.0</td>\n",
       "      <td>1</td>\n",
       "      <td>0</td>\n",
       "      <td>0</td>\n",
       "      <td>0</td>\n",
       "      <td>0</td>\n",
       "      <td>1.0</td>\n",
       "      <td>3014283.0</td>\n",
       "      <td>4</td>\n",
       "      <td>0</td>\n",
       "      <td>0.0</td>\n",
       "      <td>35</td>\n",
       "      <td>F</td>\n",
       "      <td>Married</td>\n",
       "      <td>5.0</td>\n",
       "      <td>44.0</td>\n",
       "      <td>Professional</td>\n",
       "      <td>SAL</td>\n",
       "      <td>Rented</td>\n",
       "      <td>112</td>\n",
       "      <td>43</td>\n",
       "    </tr>\n",
       "  </tbody>\n",
       "</table>\n",
       "</div>"
      ],
      "text/plain": [
       "   Application_ID  No_of_times_90_DPD_or_worse_in_last_6_months  \\\n",
       "0       954457215                                             0   \n",
       "1       432830445                                             0   \n",
       "2       941387308                                             0   \n",
       "3       392161677                                             0   \n",
       "4       182011211                                             0   \n",
       "\n",
       "   No_of_times_60_DPD_or_worse_in_last_6_months  \\\n",
       "0                                             0   \n",
       "1                                             0   \n",
       "2                                             0   \n",
       "3                                             0   \n",
       "4                                             0   \n",
       "\n",
       "   No_of_times_30_DPD_or_worse_in_last_6_months  \\\n",
       "0                                             0   \n",
       "1                                             0   \n",
       "2                                             0   \n",
       "3                                             0   \n",
       "4                                             0   \n",
       "\n",
       "   No_of_times_90_DPD_or_worse_in_last_12_months  \\\n",
       "0                                              0   \n",
       "1                                              0   \n",
       "2                                              0   \n",
       "3                                              0   \n",
       "4                                              0   \n",
       "\n",
       "   No_of_times_60_DPD_or_worse_in_last_12_months  \\\n",
       "0                                              0   \n",
       "1                                              0   \n",
       "2                                              0   \n",
       "3                                              0   \n",
       "4                                              0   \n",
       "\n",
       "   No_of_times_30_DPD_or_worse_in_last_12_months  \\\n",
       "0                                              0   \n",
       "1                                              0   \n",
       "2                                              0   \n",
       "3                                              0   \n",
       "4                                              0   \n",
       "\n",
       "   Avgas_CC_Utilization_in_last_12_months  \\\n",
       "0                                     4.0   \n",
       "1                                     3.0   \n",
       "2                                     7.0   \n",
       "3                                    11.0   \n",
       "4                                    12.0   \n",
       "\n",
       "   No_of_trades_opened_in_last_6_months  \\\n",
       "0                                   1.0   \n",
       "1                                   1.0   \n",
       "2                                   0.0   \n",
       "3                                   1.0   \n",
       "4                                   0.0   \n",
       "\n",
       "   No_of_trades_opened_in_last_12_months  \\\n",
       "0                                      2   \n",
       "1                                      2   \n",
       "2                                      0   \n",
       "3                                      1   \n",
       "4                                      1   \n",
       "\n",
       "   No_of_PL_trades_opened_in_last_6_months  \\\n",
       "0                                        0   \n",
       "1                                        0   \n",
       "2                                        0   \n",
       "3                                        0   \n",
       "4                                        0   \n",
       "\n",
       "   No_of_PL_trades_opened_in_last_12_months  \\\n",
       "0                                         0   \n",
       "1                                         0   \n",
       "2                                         0   \n",
       "3                                         0   \n",
       "4                                         0   \n",
       "\n",
       "   No_of_Inquiries_in_last_6_months_(excluding_home_&_auto_loans)  \\\n",
       "0                                                  0                \n",
       "1                                                  0                \n",
       "2                                                  0                \n",
       "3                                                  0                \n",
       "4                                                  0                \n",
       "\n",
       "   No_of_Inquiries_in_last_12_months_(excluding_home_&_auto_loans)  \\\n",
       "0                                                  0                 \n",
       "1                                                  0                 \n",
       "2                                                  0                 \n",
       "3                                                  0                 \n",
       "4                                                  0                 \n",
       "\n",
       "   Presence_of_open_home_loan  Outstanding_Balance  Total_No_of_Trades  \\\n",
       "0                         1.0            2999395.0                   4   \n",
       "1                         0.0               3078.0                   5   \n",
       "2                         1.0            3004972.0                   2   \n",
       "3                         1.0            3355373.0                   4   \n",
       "4                         1.0            3014283.0                   4   \n",
       "\n",
       "   Presence_of_open_auto_loan  Performance_Tag_credit  Age Gender  \\\n",
       "0                           0                     0.0   48      F   \n",
       "1                           0                     0.0   31      M   \n",
       "2                           0                     0.0   32      M   \n",
       "3                           1                     0.0   43      M   \n",
       "4                           0                     0.0   35      F   \n",
       "\n",
       "  Marital_Status_(at_the_time_of_application)  No_of_dependents  Income  \\\n",
       "0                                     Married               2.0    40.0   \n",
       "1                                     Married               4.0    55.0   \n",
       "2                                      Single               2.0    46.0   \n",
       "3                                     Married               1.0    53.0   \n",
       "4                                     Married               5.0    44.0   \n",
       "\n",
       "      Education Profession_ Type_of_residence  \\\n",
       "0      Bachelor         SAL            Rented   \n",
       "1  Professional     SE_PROF            Rented   \n",
       "2      Bachelor     SE_PROF            Rented   \n",
       "3      Bachelor          SE            Rented   \n",
       "4  Professional         SAL            Rented   \n",
       "\n",
       "   No_of_months_in_current_residence  No_of_months_in_current_company  \n",
       "0                                113                               56  \n",
       "1                                112                               46  \n",
       "2                                104                               49  \n",
       "3                                 94                               53  \n",
       "4                                112                               43  "
      ]
     },
     "execution_count": 33,
     "metadata": {},
     "output_type": "execute_result"
    }
   ],
   "source": [
    "master.head()"
   ]
  },
  {
   "cell_type": "code",
   "execution_count": 34,
   "metadata": {},
   "outputs": [
    {
     "data": {
      "text/plain": [
       "0.0    66920\n",
       "1.0     2947\n",
       "Name: Performance_Tag_credit, dtype: int64"
      ]
     },
     "execution_count": 34,
     "metadata": {},
     "output_type": "execute_result"
    }
   ],
   "source": [
    "master['Performance_Tag_credit'].value_counts()"
   ]
  },
  {
   "cell_type": "code",
   "execution_count": 35,
   "metadata": {},
   "outputs": [],
   "source": [
    "rejected_rows = master[master['Performance_Tag_credit'].isnull()]"
   ]
  },
  {
   "cell_type": "code",
   "execution_count": 36,
   "metadata": {},
   "outputs": [
    {
     "data": {
      "text/plain": [
       "(1425, 29)"
      ]
     },
     "execution_count": 36,
     "metadata": {},
     "output_type": "execute_result"
    }
   ],
   "source": [
    "rejected_rows.shape"
   ]
  },
  {
   "cell_type": "code",
   "execution_count": 37,
   "metadata": {},
   "outputs": [
    {
     "data": {
      "text/plain": [
       "1.9988217471806093"
      ]
     },
     "execution_count": 37,
     "metadata": {},
     "output_type": "execute_result"
    }
   ],
   "source": [
    "# Rejection rate\n",
    "\n",
    "rejected_rows.shape[0]*100.0/master.shape[0]"
   ]
  },
  {
   "cell_type": "code",
   "execution_count": 38,
   "metadata": {},
   "outputs": [],
   "source": [
    "master = master[master['Performance_Tag_credit'].notnull()]"
   ]
  },
  {
   "cell_type": "code",
   "execution_count": 39,
   "metadata": {},
   "outputs": [
    {
     "data": {
      "text/plain": [
       "(69867, 29)"
      ]
     },
     "execution_count": 39,
     "metadata": {},
     "output_type": "execute_result"
    }
   ],
   "source": [
    "master.shape"
   ]
  },
  {
   "cell_type": "code",
   "execution_count": 40,
   "metadata": {},
   "outputs": [
    {
     "data": {
      "text/plain": [
       "Application_ID                                                       int64\n",
       "No_of_times_90_DPD_or_worse_in_last_6_months                         int64\n",
       "No_of_times_60_DPD_or_worse_in_last_6_months                         int64\n",
       "No_of_times_30_DPD_or_worse_in_last_6_months                         int64\n",
       "No_of_times_90_DPD_or_worse_in_last_12_months                        int64\n",
       "No_of_times_60_DPD_or_worse_in_last_12_months                        int64\n",
       "No_of_times_30_DPD_or_worse_in_last_12_months                        int64\n",
       "Avgas_CC_Utilization_in_last_12_months                             float64\n",
       "No_of_trades_opened_in_last_6_months                               float64\n",
       "No_of_trades_opened_in_last_12_months                                int64\n",
       "No_of_PL_trades_opened_in_last_6_months                              int64\n",
       "No_of_PL_trades_opened_in_last_12_months                             int64\n",
       "No_of_Inquiries_in_last_6_months_(excluding_home_&_auto_loans)       int64\n",
       "No_of_Inquiries_in_last_12_months_(excluding_home_&_auto_loans)      int64\n",
       "Presence_of_open_home_loan                                         float64\n",
       "Outstanding_Balance                                                float64\n",
       "Total_No_of_Trades                                                   int64\n",
       "Presence_of_open_auto_loan                                           int64\n",
       "Performance_Tag_credit                                             float64\n",
       "Age                                                                  int64\n",
       "Gender                                                              object\n",
       "Marital_Status_(at_the_time_of_application)                         object\n",
       "No_of_dependents                                                   float64\n",
       "Income                                                             float64\n",
       "Education                                                           object\n",
       "Profession_                                                         object\n",
       "Type_of_residence                                                   object\n",
       "No_of_months_in_current_residence                                    int64\n",
       "No_of_months_in_current_company                                      int64\n",
       "dtype: object"
      ]
     },
     "execution_count": 40,
     "metadata": {},
     "output_type": "execute_result"
    }
   ],
   "source": [
    "master.dtypes"
   ]
  },
  {
   "cell_type": "code",
   "execution_count": 41,
   "metadata": {},
   "outputs": [],
   "source": [
    "master = master[master['Age']>=18]"
   ]
  },
  {
   "cell_type": "code",
   "execution_count": 42,
   "metadata": {},
   "outputs": [
    {
     "data": {
      "text/plain": [
       "(69802, 29)"
      ]
     },
     "execution_count": 42,
     "metadata": {},
     "output_type": "execute_result"
    }
   ],
   "source": [
    "master.shape"
   ]
  },
  {
   "cell_type": "code",
   "execution_count": 43,
   "metadata": {},
   "outputs": [
    {
     "data": {
      "text/plain": [
       "0.0    66856\n",
       "1.0     2946\n",
       "Name: Performance_Tag_credit, dtype: int64"
      ]
     },
     "execution_count": 43,
     "metadata": {},
     "output_type": "execute_result"
    }
   ],
   "source": [
    "master['Performance_Tag_credit'].value_counts()"
   ]
  },
  {
   "cell_type": "code",
   "execution_count": 44,
   "metadata": {},
   "outputs": [
    {
     "data": {
      "text/plain": [
       "1709"
      ]
     },
     "execution_count": 44,
     "metadata": {},
     "output_type": "execute_result"
    }
   ],
   "source": [
    "master.isnull().sum().sum()"
   ]
  },
  {
   "cell_type": "code",
   "execution_count": 45,
   "metadata": {},
   "outputs": [
    {
     "data": {
      "text/plain": [
       "2.4483539153605913"
      ]
     },
     "execution_count": 45,
     "metadata": {},
     "output_type": "execute_result"
    }
   ],
   "source": [
    "master.isnull().sum().sum()*100.0/master.shape[0]"
   ]
  },
  {
   "cell_type": "code",
   "execution_count": 46,
   "metadata": {},
   "outputs": [
    {
     "name": "stdout",
     "output_type": "stream",
     "text": [
      "<class 'pandas.core.frame.DataFrame'>\n",
      "Int64Index: 69802 entries, 0 to 71291\n",
      "Data columns (total 29 columns):\n",
      " #   Column                                                           Non-Null Count  Dtype  \n",
      "---  ------                                                           --------------  -----  \n",
      " 0   Application_ID                                                   69802 non-null  int64  \n",
      " 1   No_of_times_90_DPD_or_worse_in_last_6_months                     69802 non-null  int64  \n",
      " 2   No_of_times_60_DPD_or_worse_in_last_6_months                     69802 non-null  int64  \n",
      " 3   No_of_times_30_DPD_or_worse_in_last_6_months                     69802 non-null  int64  \n",
      " 4   No_of_times_90_DPD_or_worse_in_last_12_months                    69802 non-null  int64  \n",
      " 5   No_of_times_60_DPD_or_worse_in_last_12_months                    69802 non-null  int64  \n",
      " 6   No_of_times_30_DPD_or_worse_in_last_12_months                    69802 non-null  int64  \n",
      " 7   Avgas_CC_Utilization_in_last_12_months                           68784 non-null  float64\n",
      " 8   No_of_trades_opened_in_last_6_months                             69801 non-null  float64\n",
      " 9   No_of_trades_opened_in_last_12_months                            69802 non-null  int64  \n",
      " 10  No_of_PL_trades_opened_in_last_6_months                          69802 non-null  int64  \n",
      " 11  No_of_PL_trades_opened_in_last_12_months                         69802 non-null  int64  \n",
      " 12  No_of_Inquiries_in_last_6_months_(excluding_home_&_auto_loans)   69802 non-null  int64  \n",
      " 13  No_of_Inquiries_in_last_12_months_(excluding_home_&_auto_loans)  69802 non-null  int64  \n",
      " 14  Presence_of_open_home_loan                                       69530 non-null  float64\n",
      " 15  Outstanding_Balance                                              69530 non-null  float64\n",
      " 16  Total_No_of_Trades                                               69802 non-null  int64  \n",
      " 17  Presence_of_open_auto_loan                                       69802 non-null  int64  \n",
      " 18  Performance_Tag_credit                                           69802 non-null  float64\n",
      " 19  Age                                                              69802 non-null  int64  \n",
      " 20  Gender                                                           69801 non-null  object \n",
      " 21  Marital_Status_(at_the_time_of_application)                      69797 non-null  object \n",
      " 22  No_of_dependents                                                 69800 non-null  float64\n",
      " 23  Income                                                           69802 non-null  float64\n",
      " 24  Education                                                        69684 non-null  object \n",
      " 25  Profession_                                                      69790 non-null  object \n",
      " 26  Type_of_residence                                                69794 non-null  object \n",
      " 27  No_of_months_in_current_residence                                69802 non-null  int64  \n",
      " 28  No_of_months_in_current_company                                  69802 non-null  int64  \n",
      "dtypes: float64(7), int64(17), object(5)\n",
      "memory usage: 16.0+ MB\n"
     ]
    }
   ],
   "source": [
    "master.info()"
   ]
  },
  {
   "cell_type": "code",
   "execution_count": 47,
   "metadata": {},
   "outputs": [
    {
     "data": {
      "text/plain": [
       "Application_ID                                                        0\n",
       "No_of_times_90_DPD_or_worse_in_last_6_months                          0\n",
       "No_of_times_60_DPD_or_worse_in_last_6_months                          0\n",
       "No_of_times_30_DPD_or_worse_in_last_6_months                          0\n",
       "No_of_times_90_DPD_or_worse_in_last_12_months                         0\n",
       "No_of_times_60_DPD_or_worse_in_last_12_months                         0\n",
       "No_of_times_30_DPD_or_worse_in_last_12_months                         0\n",
       "Avgas_CC_Utilization_in_last_12_months                             1018\n",
       "No_of_trades_opened_in_last_6_months                                  1\n",
       "No_of_trades_opened_in_last_12_months                                 0\n",
       "No_of_PL_trades_opened_in_last_6_months                               0\n",
       "No_of_PL_trades_opened_in_last_12_months                              0\n",
       "No_of_Inquiries_in_last_6_months_(excluding_home_&_auto_loans)        0\n",
       "No_of_Inquiries_in_last_12_months_(excluding_home_&_auto_loans)       0\n",
       "Presence_of_open_home_loan                                          272\n",
       "Outstanding_Balance                                                 272\n",
       "Total_No_of_Trades                                                    0\n",
       "Presence_of_open_auto_loan                                            0\n",
       "Performance_Tag_credit                                                0\n",
       "Age                                                                   0\n",
       "Gender                                                                1\n",
       "Marital_Status_(at_the_time_of_application)                           5\n",
       "No_of_dependents                                                      2\n",
       "Income                                                                0\n",
       "Education                                                           118\n",
       "Profession_                                                          12\n",
       "Type_of_residence                                                     8\n",
       "No_of_months_in_current_residence                                     0\n",
       "No_of_months_in_current_company                                       0\n",
       "dtype: int64"
      ]
     },
     "execution_count": 47,
     "metadata": {},
     "output_type": "execute_result"
    }
   ],
   "source": [
    "master.isnull().sum()"
   ]
  },
  {
   "cell_type": "code",
   "execution_count": 48,
   "metadata": {},
   "outputs": [],
   "source": [
    "master.dropna(subset=['Avgas_CC_Utilization_in_last_12_months'], inplace=True)\n",
    "master.dropna(subset=['No_of_trades_opened_in_last_6_months'], inplace=True)\n",
    "master.dropna(subset=['Presence_of_open_home_loan'], inplace=True)\n",
    "master.dropna(subset=['Outstanding_Balance'], inplace=True)\n",
    "master.dropna(subset=['Gender'], inplace=True)\n",
    "master.dropna(subset=['Marital_Status_(at_the_time_of_application)'], inplace=True)\n",
    "master.dropna(subset=['No_of_dependents'], inplace=True)\n",
    "master.dropna(subset=['Education'], inplace=True)\n",
    "master.dropna(subset=['Profession_'], inplace=True)\n",
    "master.dropna(subset=['Type_of_residence'], inplace=True)"
   ]
  },
  {
   "cell_type": "code",
   "execution_count": 49,
   "metadata": {},
   "outputs": [
    {
     "data": {
      "text/plain": [
       "Application_ID                                                     0\n",
       "No_of_times_90_DPD_or_worse_in_last_6_months                       0\n",
       "No_of_times_60_DPD_or_worse_in_last_6_months                       0\n",
       "No_of_times_30_DPD_or_worse_in_last_6_months                       0\n",
       "No_of_times_90_DPD_or_worse_in_last_12_months                      0\n",
       "No_of_times_60_DPD_or_worse_in_last_12_months                      0\n",
       "No_of_times_30_DPD_or_worse_in_last_12_months                      0\n",
       "Avgas_CC_Utilization_in_last_12_months                             0\n",
       "No_of_trades_opened_in_last_6_months                               0\n",
       "No_of_trades_opened_in_last_12_months                              0\n",
       "No_of_PL_trades_opened_in_last_6_months                            0\n",
       "No_of_PL_trades_opened_in_last_12_months                           0\n",
       "No_of_Inquiries_in_last_6_months_(excluding_home_&_auto_loans)     0\n",
       "No_of_Inquiries_in_last_12_months_(excluding_home_&_auto_loans)    0\n",
       "Presence_of_open_home_loan                                         0\n",
       "Outstanding_Balance                                                0\n",
       "Total_No_of_Trades                                                 0\n",
       "Presence_of_open_auto_loan                                         0\n",
       "Performance_Tag_credit                                             0\n",
       "Age                                                                0\n",
       "Gender                                                             0\n",
       "Marital_Status_(at_the_time_of_application)                        0\n",
       "No_of_dependents                                                   0\n",
       "Income                                                             0\n",
       "Education                                                          0\n",
       "Profession_                                                        0\n",
       "Type_of_residence                                                  0\n",
       "No_of_months_in_current_residence                                  0\n",
       "No_of_months_in_current_company                                    0\n",
       "dtype: int64"
      ]
     },
     "execution_count": 49,
     "metadata": {},
     "output_type": "execute_result"
    }
   ],
   "source": [
    "master.isnull().sum()"
   ]
  },
  {
   "cell_type": "code",
   "execution_count": 50,
   "metadata": {},
   "outputs": [
    {
     "name": "stdout",
     "output_type": "stream",
     "text": [
      "<class 'pandas.core.frame.DataFrame'>\n",
      "Int64Index: 68639 entries, 0 to 71291\n",
      "Data columns (total 29 columns):\n",
      " #   Column                                                           Non-Null Count  Dtype  \n",
      "---  ------                                                           --------------  -----  \n",
      " 0   Application_ID                                                   68639 non-null  int64  \n",
      " 1   No_of_times_90_DPD_or_worse_in_last_6_months                     68639 non-null  int64  \n",
      " 2   No_of_times_60_DPD_or_worse_in_last_6_months                     68639 non-null  int64  \n",
      " 3   No_of_times_30_DPD_or_worse_in_last_6_months                     68639 non-null  int64  \n",
      " 4   No_of_times_90_DPD_or_worse_in_last_12_months                    68639 non-null  int64  \n",
      " 5   No_of_times_60_DPD_or_worse_in_last_12_months                    68639 non-null  int64  \n",
      " 6   No_of_times_30_DPD_or_worse_in_last_12_months                    68639 non-null  int64  \n",
      " 7   Avgas_CC_Utilization_in_last_12_months                           68639 non-null  float64\n",
      " 8   No_of_trades_opened_in_last_6_months                             68639 non-null  float64\n",
      " 9   No_of_trades_opened_in_last_12_months                            68639 non-null  int64  \n",
      " 10  No_of_PL_trades_opened_in_last_6_months                          68639 non-null  int64  \n",
      " 11  No_of_PL_trades_opened_in_last_12_months                         68639 non-null  int64  \n",
      " 12  No_of_Inquiries_in_last_6_months_(excluding_home_&_auto_loans)   68639 non-null  int64  \n",
      " 13  No_of_Inquiries_in_last_12_months_(excluding_home_&_auto_loans)  68639 non-null  int64  \n",
      " 14  Presence_of_open_home_loan                                       68639 non-null  float64\n",
      " 15  Outstanding_Balance                                              68639 non-null  float64\n",
      " 16  Total_No_of_Trades                                               68639 non-null  int64  \n",
      " 17  Presence_of_open_auto_loan                                       68639 non-null  int64  \n",
      " 18  Performance_Tag_credit                                           68639 non-null  float64\n",
      " 19  Age                                                              68639 non-null  int64  \n",
      " 20  Gender                                                           68639 non-null  object \n",
      " 21  Marital_Status_(at_the_time_of_application)                      68639 non-null  object \n",
      " 22  No_of_dependents                                                 68639 non-null  float64\n",
      " 23  Income                                                           68639 non-null  float64\n",
      " 24  Education                                                        68639 non-null  object \n",
      " 25  Profession_                                                      68639 non-null  object \n",
      " 26  Type_of_residence                                                68639 non-null  object \n",
      " 27  No_of_months_in_current_residence                                68639 non-null  int64  \n",
      " 28  No_of_months_in_current_company                                  68639 non-null  int64  \n",
      "dtypes: float64(7), int64(17), object(5)\n",
      "memory usage: 15.7+ MB\n"
     ]
    }
   ],
   "source": [
    "master.info()"
   ]
  },
  {
   "cell_type": "code",
   "execution_count": 51,
   "metadata": {},
   "outputs": [
    {
     "data": {
      "text/plain": [
       "0.0    65746\n",
       "1.0     2893\n",
       "Name: Performance_Tag_credit, dtype: int64"
      ]
     },
     "execution_count": 51,
     "metadata": {},
     "output_type": "execute_result"
    }
   ],
   "source": [
    "master['Performance_Tag_credit'].value_counts()"
   ]
  },
  {
   "cell_type": "code",
   "execution_count": 52,
   "metadata": {},
   "outputs": [
    {
     "data": {
      "text/plain": [
       "(68639, 29)"
      ]
     },
     "execution_count": 52,
     "metadata": {},
     "output_type": "execute_result"
    }
   ],
   "source": [
    "master.shape"
   ]
  },
  {
   "cell_type": "code",
   "execution_count": 53,
   "metadata": {},
   "outputs": [
    {
     "data": {
      "text/plain": [
       "<bound method IndexOpsMixin.value_counts of 0        40.0\n",
       "1        55.0\n",
       "2        46.0\n",
       "3        53.0\n",
       "4        44.0\n",
       "         ... \n",
       "71276    19.0\n",
       "71277    43.0\n",
       "71278    30.0\n",
       "71290     4.5\n",
       "71291    42.0\n",
       "Name: Income, Length: 68639, dtype: float64>"
      ]
     },
     "execution_count": 53,
     "metadata": {},
     "output_type": "execute_result"
    }
   ],
   "source": [
    "master['Income'].value_counts"
   ]
  },
  {
   "cell_type": "markdown",
   "metadata": {},
   "source": [
    "# Exploratory Data Analysis"
   ]
  },
  {
   "cell_type": "markdown",
   "metadata": {},
   "source": [
    "## Gender"
   ]
  },
  {
   "cell_type": "code",
   "execution_count": 54,
   "metadata": {},
   "outputs": [
    {
     "data": {
      "text/plain": [
       "M    52419\n",
       "F    16220\n",
       "Name: Gender, dtype: int64"
      ]
     },
     "execution_count": 54,
     "metadata": {},
     "output_type": "execute_result"
    }
   ],
   "source": [
    "master['Gender'].value_counts()"
   ]
  },
  {
   "cell_type": "code",
   "execution_count": 55,
   "metadata": {},
   "outputs": [],
   "source": [
    "No_of_prospect = master.groupby('Gender')['Performance_Tag_credit'].count().reset_index(name = 'No.of_prospect')"
   ]
  },
  {
   "cell_type": "code",
   "execution_count": 56,
   "metadata": {},
   "outputs": [],
   "source": [
    "count_prospects = master[master['Performance_Tag_credit']==1].groupby('Gender')['Performance_Tag_credit'].count().reset_index(name = 'count_prospects')"
   ]
  },
  {
   "cell_type": "code",
   "execution_count": 57,
   "metadata": {},
   "outputs": [],
   "source": [
    "agg_gender = No_of_prospect.merge(count_prospects, on='Gender')"
   ]
  },
  {
   "cell_type": "code",
   "execution_count": 58,
   "metadata": {},
   "outputs": [],
   "source": [
    "agg_gender['response_rate'] = 100*(agg_gender['count_prospects']/agg_gender['No.of_prospect']).round(3)"
   ]
  },
  {
   "cell_type": "code",
   "execution_count": 59,
   "metadata": {},
   "outputs": [
    {
     "data": {
      "text/html": [
       "<div>\n",
       "<style scoped>\n",
       "    .dataframe tbody tr th:only-of-type {\n",
       "        vertical-align: middle;\n",
       "    }\n",
       "\n",
       "    .dataframe tbody tr th {\n",
       "        vertical-align: top;\n",
       "    }\n",
       "\n",
       "    .dataframe thead th {\n",
       "        text-align: right;\n",
       "    }\n",
       "</style>\n",
       "<table border=\"1\" class=\"dataframe\">\n",
       "  <thead>\n",
       "    <tr style=\"text-align: right;\">\n",
       "      <th></th>\n",
       "      <th>Gender</th>\n",
       "      <th>No.of_prospect</th>\n",
       "      <th>count_prospects</th>\n",
       "      <th>response_rate</th>\n",
       "    </tr>\n",
       "  </thead>\n",
       "  <tbody>\n",
       "    <tr>\n",
       "      <th>0</th>\n",
       "      <td>F</td>\n",
       "      <td>16220</td>\n",
       "      <td>703</td>\n",
       "      <td>4.3</td>\n",
       "    </tr>\n",
       "    <tr>\n",
       "      <th>1</th>\n",
       "      <td>M</td>\n",
       "      <td>52419</td>\n",
       "      <td>2190</td>\n",
       "      <td>4.2</td>\n",
       "    </tr>\n",
       "  </tbody>\n",
       "</table>\n",
       "</div>"
      ],
      "text/plain": [
       "  Gender  No.of_prospect  count_prospects  response_rate\n",
       "0      F           16220              703            4.3\n",
       "1      M           52419             2190            4.2"
      ]
     },
     "execution_count": 59,
     "metadata": {},
     "output_type": "execute_result"
    }
   ],
   "source": [
    "agg_gender"
   ]
  },
  {
   "cell_type": "code",
   "execution_count": 60,
   "metadata": {},
   "outputs": [
    {
     "data": {
      "image/png": "[encoded data removed]",
      "text/plain": [
       "<Figure size 432x288 with 1 Axes>"
      ]
     },
     "metadata": {
      "needs_background": "light"
     },
     "output_type": "display_data"
    }
   ],
   "source": [
    "import seaborn as sns\n",
    "import matplotlib.pyplot as plt\n",
    "\n",
    "ax = sns.barplot(x='Gender', y='response_rate', data=agg_gender)\n",
    "ax.set_xticklabels(ax.get_xticklabels(),rotation=30)\n",
    "plt.show()"
   ]
  },
  {
   "cell_type": "markdown",
   "metadata": {},
   "source": [
    "## Marital Status"
   ]
  },
  {
   "cell_type": "code",
   "execution_count": 61,
   "metadata": {},
   "outputs": [
    {
     "data": {
      "text/plain": [
       "Married    58498\n",
       "Single     10141\n",
       "Name: Marital_Status_(at_the_time_of_application), dtype: int64"
      ]
     },
     "execution_count": 61,
     "metadata": {},
     "output_type": "execute_result"
    }
   ],
   "source": [
    "master['Marital_Status_(at_the_time_of_application)'].value_counts()"
   ]
  },
  {
   "cell_type": "code",
   "execution_count": 62,
   "metadata": {},
   "outputs": [],
   "source": [
    "No_of_prospect = master.groupby('Marital_Status_(at_the_time_of_application)')['Performance_Tag_credit'].count().reset_index(name = 'No.of_prospect')"
   ]
  },
  {
   "cell_type": "code",
   "execution_count": 63,
   "metadata": {},
   "outputs": [],
   "source": [
    "count_prospects = master[master['Performance_Tag_credit']==1].groupby('Marital_Status_(at_the_time_of_application)')['Performance_Tag_credit'].count().reset_index(name = 'count_prospects')"
   ]
  },
  {
   "cell_type": "code",
   "execution_count": 64,
   "metadata": {},
   "outputs": [],
   "source": [
    "agg_marital_status = No_of_prospect.merge(count_prospects, on='Marital_Status_(at_the_time_of_application)')"
   ]
  },
  {
   "cell_type": "code",
   "execution_count": 65,
   "metadata": {},
   "outputs": [],
   "source": [
    "agg_marital_status['response_rate'] = 100*(agg_marital_status['count_prospects']/agg_marital_status['No.of_prospect']).round(3)"
   ]
  },
  {
   "cell_type": "code",
   "execution_count": 66,
   "metadata": {},
   "outputs": [
    {
     "data": {
      "text/html": [
       "<div>\n",
       "<style scoped>\n",
       "    .dataframe tbody tr th:only-of-type {\n",
       "        vertical-align: middle;\n",
       "    }\n",
       "\n",
       "    .dataframe tbody tr th {\n",
       "        vertical-align: top;\n",
       "    }\n",
       "\n",
       "    .dataframe thead th {\n",
       "        text-align: right;\n",
       "    }\n",
       "</style>\n",
       "<table border=\"1\" class=\"dataframe\">\n",
       "  <thead>\n",
       "    <tr style=\"text-align: right;\">\n",
       "      <th></th>\n",
       "      <th>Marital_Status_(at_the_time_of_application)</th>\n",
       "      <th>No.of_prospect</th>\n",
       "      <th>count_prospects</th>\n",
       "      <th>response_rate</th>\n",
       "    </tr>\n",
       "  </thead>\n",
       "  <tbody>\n",
       "    <tr>\n",
       "      <th>0</th>\n",
       "      <td>Married</td>\n",
       "      <td>58498</td>\n",
       "      <td>2456</td>\n",
       "      <td>4.2</td>\n",
       "    </tr>\n",
       "    <tr>\n",
       "      <th>1</th>\n",
       "      <td>Single</td>\n",
       "      <td>10141</td>\n",
       "      <td>437</td>\n",
       "      <td>4.3</td>\n",
       "    </tr>\n",
       "  </tbody>\n",
       "</table>\n",
       "</div>"
      ],
      "text/plain": [
       "  Marital_Status_(at_the_time_of_application)  No.of_prospect  \\\n",
       "0                                     Married           58498   \n",
       "1                                      Single           10141   \n",
       "\n",
       "   count_prospects  response_rate  \n",
       "0             2456            4.2  \n",
       "1              437            4.3  "
      ]
     },
     "execution_count": 66,
     "metadata": {},
     "output_type": "execute_result"
    }
   ],
   "source": [
    "agg_marital_status"
   ]
  },
  {
   "cell_type": "code",
   "execution_count": 67,
   "metadata": {},
   "outputs": [
    {
     "data": {
      "image/png": "[encoded data removed]",
      "text/plain": [
       "<Figure size 432x288 with 1 Axes>"
      ]
     },
     "metadata": {
      "needs_background": "light"
     },
     "output_type": "display_data"
    }
   ],
   "source": [
    "ax = sns.barplot(x='Marital_Status_(at_the_time_of_application)', y='response_rate', data=agg_marital_status)\n",
    "ax.set_xticklabels(ax.get_xticklabels(),rotation=30)\n",
    "plt.show()"
   ]
  },
  {
   "cell_type": "markdown",
   "metadata": {},
   "source": [
    "## No_of_dependents"
   ]
  },
  {
   "cell_type": "code",
   "execution_count": 68,
   "metadata": {},
   "outputs": [
    {
     "data": {
      "text/plain": [
       "3.0    15359\n",
       "1.0    14947\n",
       "2.0    14872\n",
       "4.0    11800\n",
       "5.0    11661\n",
       "Name: No_of_dependents, dtype: int64"
      ]
     },
     "execution_count": 68,
     "metadata": {},
     "output_type": "execute_result"
    }
   ],
   "source": [
    "master['No_of_dependents'].value_counts()"
   ]
  },
  {
   "cell_type": "code",
   "execution_count": 69,
   "metadata": {},
   "outputs": [],
   "source": [
    "No_of_prospect = master.groupby('No_of_dependents')['Performance_Tag_credit'].count().reset_index(name = 'No.of_prospect')"
   ]
  },
  {
   "cell_type": "code",
   "execution_count": 70,
   "metadata": {},
   "outputs": [],
   "source": [
    "count_prospects = master[master['Performance_Tag_credit']==1].groupby('No_of_dependents')['Performance_Tag_credit'].count().reset_index(name = 'count_prospects')"
   ]
  },
  {
   "cell_type": "code",
   "execution_count": 71,
   "metadata": {},
   "outputs": [],
   "source": [
    "agg_dependents = No_of_prospect.merge(count_prospects, on='No_of_dependents')"
   ]
  },
  {
   "cell_type": "code",
   "execution_count": 72,
   "metadata": {},
   "outputs": [],
   "source": [
    "agg_dependents['response_rate'] = 100*(agg_dependents['count_prospects']/agg_dependents['No.of_prospect']).round(3)"
   ]
  },
  {
   "cell_type": "code",
   "execution_count": 73,
   "metadata": {},
   "outputs": [
    {
     "data": {
      "text/html": [
       "<div>\n",
       "<style scoped>\n",
       "    .dataframe tbody tr th:only-of-type {\n",
       "        vertical-align: middle;\n",
       "    }\n",
       "\n",
       "    .dataframe tbody tr th {\n",
       "        vertical-align: top;\n",
       "    }\n",
       "\n",
       "    .dataframe thead th {\n",
       "        text-align: right;\n",
       "    }\n",
       "</style>\n",
       "<table border=\"1\" class=\"dataframe\">\n",
       "  <thead>\n",
       "    <tr style=\"text-align: right;\">\n",
       "      <th></th>\n",
       "      <th>No_of_dependents</th>\n",
       "      <th>No.of_prospect</th>\n",
       "      <th>count_prospects</th>\n",
       "      <th>response_rate</th>\n",
       "    </tr>\n",
       "  </thead>\n",
       "  <tbody>\n",
       "    <tr>\n",
       "      <th>0</th>\n",
       "      <td>1.0</td>\n",
       "      <td>14947</td>\n",
       "      <td>660</td>\n",
       "      <td>4.4</td>\n",
       "    </tr>\n",
       "    <tr>\n",
       "      <th>1</th>\n",
       "      <td>2.0</td>\n",
       "      <td>14872</td>\n",
       "      <td>576</td>\n",
       "      <td>3.9</td>\n",
       "    </tr>\n",
       "    <tr>\n",
       "      <th>2</th>\n",
       "      <td>3.0</td>\n",
       "      <td>15359</td>\n",
       "      <td>680</td>\n",
       "      <td>4.4</td>\n",
       "    </tr>\n",
       "    <tr>\n",
       "      <th>3</th>\n",
       "      <td>4.0</td>\n",
       "      <td>11800</td>\n",
       "      <td>484</td>\n",
       "      <td>4.1</td>\n",
       "    </tr>\n",
       "    <tr>\n",
       "      <th>4</th>\n",
       "      <td>5.0</td>\n",
       "      <td>11661</td>\n",
       "      <td>493</td>\n",
       "      <td>4.2</td>\n",
       "    </tr>\n",
       "  </tbody>\n",
       "</table>\n",
       "</div>"
      ],
      "text/plain": [
       "   No_of_dependents  No.of_prospect  count_prospects  response_rate\n",
       "0               1.0           14947              660            4.4\n",
       "1               2.0           14872              576            3.9\n",
       "2               3.0           15359              680            4.4\n",
       "3               4.0           11800              484            4.1\n",
       "4               5.0           11661              493            4.2"
      ]
     },
     "execution_count": 73,
     "metadata": {},
     "output_type": "execute_result"
    }
   ],
   "source": [
    "agg_dependents"
   ]
  },
  {
   "cell_type": "code",
   "execution_count": 74,
   "metadata": {},
   "outputs": [
    {
     "data": {
      "image/png": "[encoded data removed]",
      "text/plain": [
       "<Figure size 432x288 with 1 Axes>"
      ]
     },
     "metadata": {
      "needs_background": "light"
     },
     "output_type": "display_data"
    }
   ],
   "source": [
    "ax = sns.barplot(x='No_of_dependents', y='response_rate', data=agg_dependents)\n",
    "ax.set_xticklabels(ax.get_xticklabels(),rotation=30)\n",
    "plt.show()"
   ]
  },
  {
   "cell_type": "markdown",
   "metadata": {},
   "source": [
    "# Data Preparation"
   ]
  },
  {
   "cell_type": "code",
   "execution_count": 75,
   "metadata": {},
   "outputs": [
    {
     "name": "stderr",
     "output_type": "stream",
     "text": [
      "C:\\ProgramData\\Anaconda3\\lib\\site-packages\\pandas\\core\\indexing.py:1637: SettingWithCopyWarning: \n",
      "A value is trying to be set on a copy of a slice from a DataFrame\n",
      "\n",
      "See the caveats in the documentation: https://pandas.pydata.org/pandas-docs/stable/user_guide/indexing.html#returning-a-view-versus-a-copy\n",
      "  self._setitem_single_block(indexer, value, name)\n"
     ]
    }
   ],
   "source": [
    "for i in range(master.shape[0]):\n",
    "    if master.Income.iloc[i] < 0.0:\n",
    "        master.Income.iloc[i] = 0.0"
   ]
  },
  {
   "cell_type": "code",
   "execution_count": 76,
   "metadata": {},
   "outputs": [
    {
     "name": "stdout",
     "output_type": "stream",
     "text": [
      "Application_ID                                                     False\n",
      "No_of_times_90_DPD_or_worse_in_last_6_months                       False\n",
      "No_of_times_60_DPD_or_worse_in_last_6_months                       False\n",
      "No_of_times_30_DPD_or_worse_in_last_6_months                       False\n",
      "No_of_times_90_DPD_or_worse_in_last_12_months                      False\n",
      "No_of_times_60_DPD_or_worse_in_last_12_months                      False\n",
      "No_of_times_30_DPD_or_worse_in_last_12_months                      False\n",
      "Avgas_CC_Utilization_in_last_12_months                             False\n",
      "No_of_trades_opened_in_last_6_months                               False\n",
      "No_of_trades_opened_in_last_12_months                              False\n",
      "No_of_PL_trades_opened_in_last_6_months                            False\n",
      "No_of_PL_trades_opened_in_last_12_months                           False\n",
      "No_of_Inquiries_in_last_6_months_(excluding_home_&_auto_loans)     False\n",
      "No_of_Inquiries_in_last_12_months_(excluding_home_&_auto_loans)    False\n",
      "Presence_of_open_home_loan                                         False\n",
      "Outstanding_Balance                                                False\n",
      "Total_No_of_Trades                                                 False\n",
      "Presence_of_open_auto_loan                                         False\n",
      "Performance_Tag_credit                                             False\n",
      "Age                                                                False\n",
      "Gender                                                              True\n",
      "Marital_Status_(at_the_time_of_application)                         True\n",
      "No_of_dependents                                                   False\n",
      "Income                                                             False\n",
      "Education                                                           True\n",
      "Profession_                                                         True\n",
      "Type_of_residence                                                   True\n",
      "No_of_months_in_current_residence                                  False\n",
      "No_of_months_in_current_company                                    False\n",
      "dtype: bool\n"
     ]
    }
   ],
   "source": [
    "obj = master.dtypes == np.object\n",
    "print(obj)"
   ]
  },
  {
   "cell_type": "code",
   "execution_count": 77,
   "metadata": {},
   "outputs": [
    {
     "name": "stdout",
     "output_type": "stream",
     "text": [
      "Gender\n",
      "Marital_Status_(at_the_time_of_application)\n",
      "Education\n",
      "Profession_\n",
      "Type_of_residence\n"
     ]
    }
   ],
   "source": [
    "dummydf = pd.DataFrame()   \n",
    "for i in master.columns[obj]:\n",
    "    print(i)\n",
    "    dummy = pd.get_dummies(master[i], drop_first=True)\n",
    "    dummydf = pd.concat([dummydf, dummy], axis=1)"
   ]
  },
  {
   "cell_type": "code",
   "execution_count": 78,
   "metadata": {},
   "outputs": [
    {
     "data": {
      "text/plain": [
       "(68639, 12)"
      ]
     },
     "execution_count": 78,
     "metadata": {},
     "output_type": "execute_result"
    }
   ],
   "source": [
    "dummydf.shape"
   ]
  },
  {
   "cell_type": "code",
   "execution_count": 79,
   "metadata": {},
   "outputs": [
    {
     "data": {
      "text/html": [
       "<div>\n",
       "<style scoped>\n",
       "    .dataframe tbody tr th:only-of-type {\n",
       "        vertical-align: middle;\n",
       "    }\n",
       "\n",
       "    .dataframe tbody tr th {\n",
       "        vertical-align: top;\n",
       "    }\n",
       "\n",
       "    .dataframe thead th {\n",
       "        text-align: right;\n",
       "    }\n",
       "</style>\n",
       "<table border=\"1\" class=\"dataframe\">\n",
       "  <thead>\n",
       "    <tr style=\"text-align: right;\">\n",
       "      <th></th>\n",
       "      <th>M</th>\n",
       "      <th>Single</th>\n",
       "      <th>Masters</th>\n",
       "      <th>Others</th>\n",
       "      <th>Phd</th>\n",
       "      <th>Professional</th>\n",
       "      <th>SE</th>\n",
       "      <th>SE_PROF</th>\n",
       "      <th>Living with Parents</th>\n",
       "      <th>Others</th>\n",
       "      <th>Owned</th>\n",
       "      <th>Rented</th>\n",
       "    </tr>\n",
       "  </thead>\n",
       "  <tbody>\n",
       "    <tr>\n",
       "      <th>0</th>\n",
       "      <td>0</td>\n",
       "      <td>0</td>\n",
       "      <td>0</td>\n",
       "      <td>0</td>\n",
       "      <td>0</td>\n",
       "      <td>0</td>\n",
       "      <td>0</td>\n",
       "      <td>0</td>\n",
       "      <td>0</td>\n",
       "      <td>0</td>\n",
       "      <td>0</td>\n",
       "      <td>1</td>\n",
       "    </tr>\n",
       "    <tr>\n",
       "      <th>1</th>\n",
       "      <td>1</td>\n",
       "      <td>0</td>\n",
       "      <td>0</td>\n",
       "      <td>0</td>\n",
       "      <td>0</td>\n",
       "      <td>1</td>\n",
       "      <td>0</td>\n",
       "      <td>1</td>\n",
       "      <td>0</td>\n",
       "      <td>0</td>\n",
       "      <td>0</td>\n",
       "      <td>1</td>\n",
       "    </tr>\n",
       "    <tr>\n",
       "      <th>2</th>\n",
       "      <td>1</td>\n",
       "      <td>1</td>\n",
       "      <td>0</td>\n",
       "      <td>0</td>\n",
       "      <td>0</td>\n",
       "      <td>0</td>\n",
       "      <td>0</td>\n",
       "      <td>1</td>\n",
       "      <td>0</td>\n",
       "      <td>0</td>\n",
       "      <td>0</td>\n",
       "      <td>1</td>\n",
       "    </tr>\n",
       "    <tr>\n",
       "      <th>3</th>\n",
       "      <td>1</td>\n",
       "      <td>0</td>\n",
       "      <td>0</td>\n",
       "      <td>0</td>\n",
       "      <td>0</td>\n",
       "      <td>0</td>\n",
       "      <td>1</td>\n",
       "      <td>0</td>\n",
       "      <td>0</td>\n",
       "      <td>0</td>\n",
       "      <td>0</td>\n",
       "      <td>1</td>\n",
       "    </tr>\n",
       "    <tr>\n",
       "      <th>4</th>\n",
       "      <td>0</td>\n",
       "      <td>0</td>\n",
       "      <td>0</td>\n",
       "      <td>0</td>\n",
       "      <td>0</td>\n",
       "      <td>1</td>\n",
       "      <td>0</td>\n",
       "      <td>0</td>\n",
       "      <td>0</td>\n",
       "      <td>0</td>\n",
       "      <td>0</td>\n",
       "      <td>1</td>\n",
       "    </tr>\n",
       "  </tbody>\n",
       "</table>\n",
       "</div>"
      ],
      "text/plain": [
       "   M  Single  Masters  Others  Phd  Professional  SE  SE_PROF  \\\n",
       "0  0       0        0       0    0             0   0        0   \n",
       "1  1       0        0       0    0             1   0        1   \n",
       "2  1       1        0       0    0             0   0        1   \n",
       "3  1       0        0       0    0             0   1        0   \n",
       "4  0       0        0       0    0             1   0        0   \n",
       "\n",
       "   Living with Parents  Others  Owned  Rented  \n",
       "0                    0       0      0       1  \n",
       "1                    0       0      0       1  \n",
       "2                    0       0      0       1  \n",
       "3                    0       0      0       1  \n",
       "4                    0       0      0       1  "
      ]
     },
     "execution_count": 79,
     "metadata": {},
     "output_type": "execute_result"
    }
   ],
   "source": [
    "dummydf.head()"
   ]
  },
  {
   "cell_type": "code",
   "execution_count": 80,
   "metadata": {},
   "outputs": [
    {
     "data": {
      "text/plain": [
       "(68639, 29)"
      ]
     },
     "execution_count": 80,
     "metadata": {},
     "output_type": "execute_result"
    }
   ],
   "source": [
    "master.shape"
   ]
  },
  {
   "cell_type": "code",
   "execution_count": 81,
   "metadata": {},
   "outputs": [],
   "source": [
    "#Merge the dummy and dataset\n",
    "master1 = master\n",
    "master1 = pd.concat([master1,dummydf], axis=1)"
   ]
  },
  {
   "cell_type": "code",
   "execution_count": 82,
   "metadata": {},
   "outputs": [
    {
     "name": "stdout",
     "output_type": "stream",
     "text": [
      "(68639, 41)\n"
     ]
    }
   ],
   "source": [
    "print(master1.shape)"
   ]
  },
  {
   "cell_type": "code",
   "execution_count": 83,
   "metadata": {},
   "outputs": [],
   "source": [
    "obj1 = master1.dtypes == np.object"
   ]
  },
  {
   "cell_type": "code",
   "execution_count": 84,
   "metadata": {},
   "outputs": [
    {
     "data": {
      "text/plain": [
       "Application_ID                                                     False\n",
       "No_of_times_90_DPD_or_worse_in_last_6_months                       False\n",
       "No_of_times_60_DPD_or_worse_in_last_6_months                       False\n",
       "No_of_times_30_DPD_or_worse_in_last_6_months                       False\n",
       "No_of_times_90_DPD_or_worse_in_last_12_months                      False\n",
       "No_of_times_60_DPD_or_worse_in_last_12_months                      False\n",
       "No_of_times_30_DPD_or_worse_in_last_12_months                      False\n",
       "Avgas_CC_Utilization_in_last_12_months                             False\n",
       "No_of_trades_opened_in_last_6_months                               False\n",
       "No_of_trades_opened_in_last_12_months                              False\n",
       "No_of_PL_trades_opened_in_last_6_months                            False\n",
       "No_of_PL_trades_opened_in_last_12_months                           False\n",
       "No_of_Inquiries_in_last_6_months_(excluding_home_&_auto_loans)     False\n",
       "No_of_Inquiries_in_last_12_months_(excluding_home_&_auto_loans)    False\n",
       "Presence_of_open_home_loan                                         False\n",
       "Outstanding_Balance                                                False\n",
       "Total_No_of_Trades                                                 False\n",
       "Presence_of_open_auto_loan                                         False\n",
       "Performance_Tag_credit                                             False\n",
       "Age                                                                False\n",
       "Gender                                                              True\n",
       "Marital_Status_(at_the_time_of_application)                         True\n",
       "No_of_dependents                                                   False\n",
       "Income                                                             False\n",
       "Education                                                           True\n",
       "Profession_                                                         True\n",
       "Type_of_residence                                                   True\n",
       "No_of_months_in_current_residence                                  False\n",
       "No_of_months_in_current_company                                    False\n",
       "M                                                                  False\n",
       "Single                                                             False\n",
       "Masters                                                            False\n",
       "Others                                                             False\n",
       "Phd                                                                False\n",
       "Professional                                                       False\n",
       "SE                                                                 False\n",
       "SE_PROF                                                            False\n",
       "Living with Parents                                                False\n",
       "Others                                                             False\n",
       "Owned                                                              False\n",
       "Rented                                                             False\n",
       "dtype: bool"
      ]
     },
     "execution_count": 84,
     "metadata": {},
     "output_type": "execute_result"
    }
   ],
   "source": [
    "obj1"
   ]
  },
  {
   "cell_type": "code",
   "execution_count": 85,
   "metadata": {},
   "outputs": [],
   "source": [
    "master1 = master1.drop(master1.columns[obj1], axis=1)"
   ]
  },
  {
   "cell_type": "code",
   "execution_count": 86,
   "metadata": {},
   "outputs": [
    {
     "data": {
      "text/plain": [
       "(68639, 36)"
      ]
     },
     "execution_count": 86,
     "metadata": {},
     "output_type": "execute_result"
    }
   ],
   "source": [
    "master1.shape"
   ]
  },
  {
   "cell_type": "code",
   "execution_count": 87,
   "metadata": {},
   "outputs": [
    {
     "data": {
      "text/plain": [
       "Application_ID                                                       int64\n",
       "No_of_times_90_DPD_or_worse_in_last_6_months                         int64\n",
       "No_of_times_60_DPD_or_worse_in_last_6_months                         int64\n",
       "No_of_times_30_DPD_or_worse_in_last_6_months                         int64\n",
       "No_of_times_90_DPD_or_worse_in_last_12_months                        int64\n",
       "No_of_times_60_DPD_or_worse_in_last_12_months                        int64\n",
       "No_of_times_30_DPD_or_worse_in_last_12_months                        int64\n",
       "Avgas_CC_Utilization_in_last_12_months                             float64\n",
       "No_of_trades_opened_in_last_6_months                               float64\n",
       "No_of_trades_opened_in_last_12_months                                int64\n",
       "No_of_PL_trades_opened_in_last_6_months                              int64\n",
       "No_of_PL_trades_opened_in_last_12_months                             int64\n",
       "No_of_Inquiries_in_last_6_months_(excluding_home_&_auto_loans)       int64\n",
       "No_of_Inquiries_in_last_12_months_(excluding_home_&_auto_loans)      int64\n",
       "Presence_of_open_home_loan                                         float64\n",
       "Outstanding_Balance                                                float64\n",
       "Total_No_of_Trades                                                   int64\n",
       "Presence_of_open_auto_loan                                           int64\n",
       "Performance_Tag_credit                                             float64\n",
       "Age                                                                  int64\n",
       "No_of_dependents                                                   float64\n",
       "Income                                                             float64\n",
       "No_of_months_in_current_residence                                    int64\n",
       "No_of_months_in_current_company                                      int64\n",
       "M                                                                    uint8\n",
       "Single                                                               uint8\n",
       "Masters                                                              uint8\n",
       "Others                                                               uint8\n",
       "Phd                                                                  uint8\n",
       "Professional                                                         uint8\n",
       "SE                                                                   uint8\n",
       "SE_PROF                                                              uint8\n",
       "Living with Parents                                                  uint8\n",
       "Others                                                               uint8\n",
       "Owned                                                                uint8\n",
       "Rented                                                               uint8\n",
       "dtype: object"
      ]
     },
     "execution_count": 87,
     "metadata": {},
     "output_type": "execute_result"
    }
   ],
   "source": [
    "master1.dtypes"
   ]
  },
  {
   "cell_type": "code",
   "execution_count": 88,
   "metadata": {},
   "outputs": [],
   "source": [
    "ID = master1['Application_ID']"
   ]
  },
  {
   "cell_type": "code",
   "execution_count": 89,
   "metadata": {},
   "outputs": [],
   "source": [
    "X = master1.drop(['Performance_Tag_credit'], axis=1)"
   ]
  },
  {
   "cell_type": "code",
   "execution_count": 90,
   "metadata": {},
   "outputs": [],
   "source": [
    "Y = master1['Performance_Tag_credit']"
   ]
  },
  {
   "cell_type": "code",
   "execution_count": 91,
   "metadata": {},
   "outputs": [
    {
     "data": {
      "text/plain": [
       "(68639, 35)"
      ]
     },
     "execution_count": 91,
     "metadata": {},
     "output_type": "execute_result"
    }
   ],
   "source": [
    "X.shape"
   ]
  },
  {
   "cell_type": "code",
   "execution_count": 92,
   "metadata": {},
   "outputs": [
    {
     "data": {
      "text/plain": [
       "(68639,)"
      ]
     },
     "execution_count": 92,
     "metadata": {},
     "output_type": "execute_result"
    }
   ],
   "source": [
    "Y.shape"
   ]
  },
  {
   "cell_type": "code",
   "execution_count": 93,
   "metadata": {},
   "outputs": [
    {
     "name": "stdout",
     "output_type": "stream",
     "text": [
      "(48047, 34)\n",
      "(48047,)\n",
      "(20592, 34)\n",
      "(20592,)\n"
     ]
    }
   ],
   "source": [
    "from sklearn.model_selection import train_test_split\n",
    "#Split into train and test\n",
    "X_train_ID, X_test_ID, Y_train, Y_test = train_test_split(X, 1.0 - Y, test_size=0.30, random_state=7)\n",
    "# 1.0 - Y so that approved becomes 1 and reject becomes 0\n",
    "X_train = X_train_ID.drop('Application_ID', axis = 1)\n",
    "X_test = X_test_ID.drop('Application_ID', axis = 1)\n",
    "Test_ID = X_test_ID['Application_ID']\n",
    "print(X_train.shape)\n",
    "print(Y_train.shape)\n",
    "print(X_test.shape)\n",
    "print(Y_test.shape)"
   ]
  },
  {
   "cell_type": "code",
   "execution_count": 94,
   "metadata": {},
   "outputs": [],
   "source": [
    "master_copy = master1"
   ]
  },
  {
   "cell_type": "code",
   "execution_count": 95,
   "metadata": {},
   "outputs": [
    {
     "data": {
      "text/plain": [
       "(68639, 36)"
      ]
     },
     "execution_count": 95,
     "metadata": {},
     "output_type": "execute_result"
    }
   ],
   "source": [
    "master_copy.shape"
   ]
  },
  {
   "cell_type": "markdown",
   "metadata": {},
   "source": [
    "# Weight of Evidence"
   ]
  },
  {
   "cell_type": "code",
   "execution_count": 96,
   "metadata": {},
   "outputs": [
    {
     "name": "stdout",
     "output_type": "stream",
     "text": [
      "Number of 1's : 2893.0\n"
     ]
    }
   ],
   "source": [
    "master_test = master.drop('Application_ID', axis = 1)\n",
    "\n",
    "print(\"Number of 1's :\", master_test.Performance_Tag_credit.sum())"
   ]
  },
  {
   "cell_type": "code",
   "execution_count": 97,
   "metadata": {},
   "outputs": [
    {
     "name": "stdout",
     "output_type": "stream",
     "text": [
      "Number of 1's : 65746.0\n",
      "master_test shape : (68639, 28)\n"
     ]
    }
   ],
   "source": [
    "master_test.loc[master_test['Performance_Tag_credit'] == 0.0, 'Performance_Tag_credit'] = -1.0\n",
    "master_test.loc[master_test['Performance_Tag_credit'] == 1.0, 'Performance_Tag_credit'] = 0.0\n",
    "master_test.loc[master_test['Performance_Tag_credit'] == -1.0, 'Performance_Tag_credit'] = 1.0\n",
    "\n",
    "print(\"Number of 1's :\", master_test.Performance_Tag_credit.sum())\n",
    "print('master_test shape :', master_test.shape)"
   ]
  },
  {
   "cell_type": "code",
   "execution_count": 98,
   "metadata": {},
   "outputs": [
    {
     "name": "stdout",
     "output_type": "stream",
     "text": [
      "Information value of No_of_times_90_DPD_or_worse_in_last_6_months is 0.166213\n",
      "Information value of No_of_times_60_DPD_or_worse_in_last_6_months is 0.2157\n",
      "Information value of No_of_times_30_DPD_or_worse_in_last_6_months is 0.249901\n",
      "Information value of No_of_times_90_DPD_or_worse_in_last_12_months is 0.22044\n",
      "Information value of No_of_times_60_DPD_or_worse_in_last_12_months is 0.267542\n",
      "Information value of No_of_times_30_DPD_or_worse_in_last_12_months is 0.233645\n",
      "Information value of Avgas_CC_Utilization_in_last_12_months is 0.321794\n",
      "Information value of No_of_trades_opened_in_last_6_months is 0.193357\n",
      "Information value of No_of_trades_opened_in_last_12_months is 0.311651\n",
      "Information value of No_of_PL_trades_opened_in_last_6_months is 0.233405\n",
      "Information value of No_of_PL_trades_opened_in_last_12_months is 0.268402\n",
      "Information value of No_of_Inquiries_in_last_6_months_(excluding_home_&_auto_loans) is 0.115277\n",
      "Information value of No_of_Inquiries_in_last_12_months_(excluding_home_&_auto_loans) is 0.257808\n",
      "Information value of Presence_of_open_home_loan is 0.017324\n",
      "Information value of Outstanding_Balance is 0.256249\n",
      "Information value of Total_No_of_Trades is 0.2491\n",
      "Information value of Presence_of_open_auto_loan is 0.001584\n",
      "Information value of Age is 0.004296\n",
      "Information value of Gender is 0.000268\n",
      "Information value of Marital_Status_(at_the_time_of_application) is 9.4e-05\n",
      "Information value of No_of_dependents is 0.002887\n",
      "Information value of Income is 0.043097\n",
      "Information value of Education is 0.000814\n",
      "Information value of Profession_ is 0.002077\n",
      "Information value of Type_of_residence is 0.000889\n",
      "Information value of No_of_months_in_current_residence is 0.071717\n",
      "Information value of No_of_months_in_current_company is 0.023415\n"
     ]
    }
   ],
   "source": [
    "def iv_woe(data, target, bins=10, show_woe=False):\n",
    "    \n",
    "    #Empty Dataframe\n",
    "    newDF = pd.DataFrame()\n",
    "    \n",
    "    #Extract Column Names\n",
    "    cols = data.columns\n",
    "    \n",
    "    #Run WOE and IV on all the independent variables\n",
    "    for ivars in cols[~cols.isin([target])]:\n",
    "        if (data[ivars].dtype.kind in 'bifc') and (len(np.unique(data[ivars]))>10):\n",
    "            binned_x = pd.qcut(data[ivars], bins,  duplicates='drop')\n",
    "            d0 = pd.DataFrame({'x': binned_x, 'y': data[target]})\n",
    "        else:\n",
    "            d0 = pd.DataFrame({'x': data[ivars], 'y': data[target]})\n",
    "        d = d0.groupby(\"x\", as_index=False).agg({\"y\": [\"count\", \"sum\"]})\n",
    "        d.columns = ['Cutoff', 'N', 'Events']\n",
    "        d['% of Events'] = d['Events'] / d['Events'].sum()\n",
    "        d['Non-Events'] = d['N'] - d['Events']\n",
    "        d['% of Non-Events'] = d['Non-Events'] / d['Non-Events'].sum()\n",
    "        d.loc[d['% of Non-Events'] == 0.0,'% of Non-Events'] = 1e-312\n",
    "        d['WoE'] = np.log(d['% of Events']/d['% of Non-Events'])\n",
    "        d['IV'] = d['WoE'] * (d['% of Events'] - d['% of Non-Events'])\n",
    "        print(\"Information value of \" + ivars + \" is \" + str(round(d['IV'].sum(),6)))\n",
    "        temp =pd.DataFrame({\"Variable\" : [ivars], \n",
    "                            \"IV\" : [d['IV'].sum()]}, columns = [\"Variable\", \"IV\"])\n",
    "        newDF=pd.concat([newDF,temp], axis=0)\n",
    "\n",
    "        #Show WOE Table\n",
    "        if show_woe == True:\n",
    "            print(d)\n",
    "    return newDF\n",
    "iv_table = iv_woe(data = master_test, target = 'Performance_Tag_credit')"
   ]
  },
  {
   "cell_type": "code",
   "execution_count": 99,
   "metadata": {},
   "outputs": [
    {
     "name": "stdout",
     "output_type": "stream",
     "text": [
      "(68639, 27)\n",
      "(68639,)\n"
     ]
    }
   ],
   "source": [
    "def WoE_transform(data, target, bins=10, show_woe=False):\n",
    "    \n",
    "    #Empty Dataframe\n",
    "    newDF = pd.DataFrame()\n",
    "    newDF = pd.concat([newDF,data], axis=1)\n",
    "    \n",
    "    #Extract Column Names\n",
    "    cols = data.columns\n",
    "    \n",
    "    #Run WOE on all the independent variables\n",
    "    for ivars in cols[~cols.isin([target])]:\n",
    "\n",
    "        if (data[ivars].dtype.kind in 'bifc') and (len(np.unique(data[ivars]))>10):\n",
    "            binned_x = pd.qcut(data[ivars], bins,  duplicates='drop')\n",
    "            d0 = pd.DataFrame({'x': binned_x, 'y': data[target]})\n",
    "            \n",
    "            d = d0.groupby(\"x\", as_index=False).agg({\"y\": [\"count\", \"sum\"]})\n",
    "            d.columns = ['Cutoff', 'N', 'Events']\n",
    "            d['% of Events'] = d['Events'] / d['Events'].sum()\n",
    "            d['Non-Events'] = d['N'] - d['Events']\n",
    "            d['% of Non-Events'] = d['Non-Events'] / d['Non-Events'].sum()\n",
    "            d.loc[d['% of Non-Events'] == 0.0,'% of Non-Events'] = 1e-312\n",
    "            d['WoE'] = np.log(d['% of Events']/d['% of Non-Events'])\n",
    "\n",
    "            for i in range(d.shape[0]):\n",
    "                interval = d.iloc[i]['Cutoff']\n",
    "                left = interval.left\n",
    "                right = interval.right\n",
    "                IV_value = d.iloc[i]['WoE']\n",
    "                newDF.loc[(data[ivars] > left) & (data[ivars] <= right),ivars] = IV_value\n",
    "        else:\n",
    "            d0 = pd.DataFrame({'x': data[ivars], 'y': data[target]})\n",
    "            d = d0.groupby(\"x\", as_index=False).agg({\"y\": [\"count\", \"sum\"]})\n",
    "            d.columns = ['Cutoff', 'N', 'Events']\n",
    "            d['% of Events'] = d['Events'] / d['Events'].sum()\n",
    "            d['Non-Events'] = d['N'] - d['Events']\n",
    "            d['% of Non-Events'] = d['Non-Events'] / d['Non-Events'].sum()\n",
    "            d.loc[d['% of Non-Events'] == 0.0,'% of Non-Events'] = 1e-312\n",
    "            d['WoE'] = np.log(d['% of Events']/d['% of Non-Events'])\n",
    "\n",
    "            for i in range(d.shape[0]):\n",
    "                interval = d.iloc[i]['Cutoff']\n",
    "                WoE_value = d.iloc[i]['WoE']\n",
    "                newDF.loc[data[ivars] == interval,ivars] = WoE_value\n",
    "    for ivars in cols:\n",
    "        newDF[ivars] = newDF[ivars].astype('float64')\n",
    "    return newDF\n",
    "WoE_table = WoE_transform(data = master_test, target = 'Performance_Tag_credit')\n",
    "\n",
    "X = WoE_table.drop('Performance_Tag_credit', axis=1)\n",
    "Y = WoE_table['Performance_Tag_credit']\n",
    "print(X.shape)\n",
    "print(Y.shape)"
   ]
  },
  {
   "cell_type": "code",
   "execution_count": 100,
   "metadata": {},
   "outputs": [
    {
     "name": "stdout",
     "output_type": "stream",
     "text": [
      "(48047, 27)\n",
      "(48047,)\n",
      "(20592, 27)\n",
      "(20592,)\n"
     ]
    }
   ],
   "source": [
    "from sklearn.model_selection import train_test_split\n",
    "#Split into train and test\n",
    "X_train, X_test, Y_train, Y_test = train_test_split(X, Y, test_size=0.30, random_state=7)\n",
    "print(X_train.shape)\n",
    "print(Y_train.shape)\n",
    "print(X_test.shape)\n",
    "print(Y_test.shape)"
   ]
  },
  {
   "cell_type": "markdown",
   "metadata": {},
   "source": [
    "# Logistic Regression"
   ]
  },
  {
   "cell_type": "code",
   "execution_count": 101,
   "metadata": {},
   "outputs": [],
   "source": [
    "from sklearn.linear_model import LogisticRegression\n",
    "from sklearn.model_selection import KFold\n",
    "from sklearn.metrics import roc_auc_score\n",
    "c = [0.001,0.01,0.1,1.0,10.0,100.0]\n",
    "num_cv_splits = 5"
   ]
  },
  {
   "cell_type": "code",
   "execution_count": 102,
   "metadata": {},
   "outputs": [],
   "source": [
    "from sklearn.preprocessing import StandardScaler\n",
    "z_scaler = StandardScaler(copy=True, with_mean=True, with_std=True)\n",
    "X_train_z = z_scaler.fit_transform(X_train)\n",
    "X_test_z = z_scaler.transform(X_test)"
   ]
  },
  {
   "cell_type": "code",
   "execution_count": 103,
   "metadata": {},
   "outputs": [
    {
     "name": "stderr",
     "output_type": "stream",
     "text": [
      "C:\\Users\\91890\\AppData\\Roaming\\Python\\Python38\\site-packages\\sklearn\\model_selection\\_split.py:292: FutureWarning: Setting a random_state has no effect since shuffle is False. This will raise an error in 0.24. You should leave random_state to its default (None), or set shuffle=True.\n",
      "  warnings.warn(\n"
     ]
    },
    {
     "name": "stdout",
     "output_type": "stream",
     "text": [
      "C = 0.001 ; mean accuracy = 0.9572710222563849 ; auc = 0.6756389239230949\n",
      "C = 0.01 ; mean accuracy = 0.9572710222563849 ; auc = 0.676029769873215\n",
      "C = 0.1 ; mean accuracy = 0.9572710222563849 ; auc = 0.6754102910611516\n",
      "C = 1.0 ; mean accuracy = 0.9572710222563849 ; auc = 0.6752865241367731\n",
      "C = 10.0 ; mean accuracy = 0.9572710222563849 ; auc = 0.6752812431935376\n",
      "C = 100.0 ; mean accuracy = 0.9572710222563849 ; auc = 0.6752800036564984\n"
     ]
    }
   ],
   "source": [
    "from sklearn.linear_model import LogisticRegression\n",
    "from sklearn.model_selection import KFold\n",
    "from sklearn.metrics import roc_auc_score\n",
    "c = [0.001,0.01,0.1,1.0,10.0,100.0]\n",
    "num_cv_splits = 5\n",
    "kf = KFold(n_splits=num_cv_splits, random_state=5)\n",
    "for C in c:\n",
    "    auc = 0.0\n",
    "    acc = 0.0\n",
    "    for train_index, test_index in kf.split(X_train):\n",
    "        X_train_cv, X_test_cv = X_train_z[train_index], X_train_z[test_index]\n",
    "        Y_train_cv, Y_test_cv = Y_train.iloc[train_index], Y_train.iloc[test_index]\n",
    "        clf = LogisticRegression(C=C, random_state=5)\n",
    "        clf.fit(X_train_cv,Y_train_cv)\n",
    "        acc += clf.score(X_test_cv,Y_test_cv)\n",
    "        pred = clf.predict_proba(X_test_cv)[:,1]\n",
    "        auc += roc_auc_score(y_true = Y_test_cv, y_score = pred)\n",
    "    print('C =',C,'; mean accuracy =',acc/num_cv_splits,'; auc =',auc/num_cv_splits)"
   ]
  },
  {
   "cell_type": "markdown",
   "metadata": {},
   "source": [
    "# Decision Trees"
   ]
  },
  {
   "cell_type": "code",
   "execution_count": 104,
   "metadata": {},
   "outputs": [],
   "source": [
    "from sklearn.tree import DecisionTreeClassifier\n",
    "from sklearn.model_selection import KFold\n",
    "from sklearn.metrics import roc_auc_score,roc_curve,confusion_matrix\n",
    "depths = [3,4,5,6,7,8,9,10,11]"
   ]
  },
  {
   "cell_type": "code",
   "execution_count": 105,
   "metadata": {},
   "outputs": [
    {
     "name": "stderr",
     "output_type": "stream",
     "text": [
      "C:\\Users\\91890\\AppData\\Roaming\\Python\\Python38\\site-packages\\sklearn\\model_selection\\_split.py:292: FutureWarning: Setting a random_state has no effect since shuffle is False. This will raise an error in 0.24. You should leave random_state to its default (None), or set shuffle=True.\n",
      "  warnings.warn(\n"
     ]
    },
    {
     "name": "stdout",
     "output_type": "stream",
     "text": [
      "depth = 3 ; mean accuracy = 0.9572710222563849 ; auc = 0.6699693013700269\n",
      "depth = 4 ; mean accuracy = 0.9572293989473319 ; auc = 0.6709714758431142\n",
      "depth = 5 ; mean accuracy = 0.9570628883843181 ; auc = 0.6665805786593852\n",
      "depth = 6 ; mean accuracy = 0.9565009520535996 ; auc = 0.6554677882774158\n",
      "depth = 7 ; mean accuracy = 0.9551897506770718 ; auc = 0.6421456202433581\n",
      "depth = 8 ; mean accuracy = 0.9536287856218735 ; auc = 0.6249460654517135\n",
      "depth = 9 ; mean accuracy = 0.9520469829219463 ; auc = 0.6085418090377374\n",
      "depth = 10 ; mean accuracy = 0.9490083514100605 ; auc = 0.586180830928425\n",
      "depth = 11 ; mean accuracy = 0.9454493224083518 ; auc = 0.563437256948526\n"
     ]
    }
   ],
   "source": [
    "num_cv_splits = 5\n",
    "kf = KFold(n_splits=num_cv_splits, random_state=5)\n",
    "for depth in depths:\n",
    "    auc = 0.0\n",
    "    acc = 0.0\n",
    "    for train_index, test_index in kf.split(X_train):\n",
    "        X_train_cv, X_test_cv = X_train.iloc[train_index], X_train.iloc[test_index]\n",
    "        Y_train_cv, Y_test_cv = Y_train.iloc[train_index], Y_train.iloc[test_index]\n",
    "        clf = DecisionTreeClassifier(max_depth=depth, random_state=5)\n",
    "        clf.fit(X_train_cv,Y_train_cv)\n",
    "        acc += clf.score(X_test_cv,Y_test_cv)\n",
    "        pred = clf.predict_proba(X_test_cv)[:,1]\n",
    "        auc += roc_auc_score(y_true = Y_test_cv, y_score = pred)\n",
    "    print('depth =', depth, '; mean accuracy =', acc/num_cv_splits, '; auc =', auc/num_cv_splits)"
   ]
  },
  {
   "cell_type": "markdown",
   "metadata": {},
   "source": [
    "## Random Forest Classifier:"
   ]
  },
  {
   "cell_type": "code",
   "execution_count": 106,
   "metadata": {},
   "outputs": [],
   "source": [
    "from sklearn.ensemble import RandomForestClassifier\n",
    "from sklearn.model_selection import KFold\n",
    "from sklearn.metrics import roc_auc_score\n",
    "num_trees = [25,50,75,100,125,150,175,200,225,250]\n",
    "max_depth = [3,4,5,6]\n",
    "num_cv_splits = 5"
   ]
  },
  {
   "cell_type": "code",
   "execution_count": 107,
   "metadata": {},
   "outputs": [
    {
     "name": "stderr",
     "output_type": "stream",
     "text": [
      "C:\\Users\\91890\\AppData\\Roaming\\Python\\Python38\\site-packages\\sklearn\\model_selection\\_split.py:292: FutureWarning: Setting a random_state has no effect since shuffle is False. This will raise an error in 0.24. You should leave random_state to its default (None), or set shuffle=True.\n",
      "  warnings.warn(\n"
     ]
    },
    {
     "name": "stdout",
     "output_type": "stream",
     "text": [
      "num_trees = 25 ; depth= 3 ; mean accuracy = 0.9572710222563849 ; auc = 0.6779470586038723\n",
      "num_trees = 25 ; depth= 4 ; mean accuracy = 0.9572710222563849 ; auc = 0.6786847592281046\n",
      "num_trees = 25 ; depth= 5 ; mean accuracy = 0.9572710222563849 ; auc = 0.677992195885157\n",
      "num_trees = 25 ; depth= 6 ; mean accuracy = 0.9572710222563849 ; auc = 0.67676172389138\n",
      "num_trees = 50 ; depth= 3 ; mean accuracy = 0.9572710222563849 ; auc = 0.6783575992848283\n",
      "num_trees = 50 ; depth= 4 ; mean accuracy = 0.9572710222563849 ; auc = 0.6790796845171245\n",
      "num_trees = 50 ; depth= 5 ; mean accuracy = 0.9572710222563849 ; auc = 0.6792456321234676\n",
      "num_trees = 50 ; depth= 6 ; mean accuracy = 0.9572710222563849 ; auc = 0.6773998591760165\n",
      "num_trees = 75 ; depth= 3 ; mean accuracy = 0.9572710222563849 ; auc = 0.6783408422867542\n",
      "num_trees = 75 ; depth= 4 ; mean accuracy = 0.9572710222563849 ; auc = 0.6795438168504102\n",
      "num_trees = 75 ; depth= 5 ; mean accuracy = 0.9572710222563849 ; auc = 0.6797560758238657\n",
      "num_trees = 75 ; depth= 6 ; mean accuracy = 0.9572710222563849 ; auc = 0.6784157150880207\n",
      "num_trees = 100 ; depth= 3 ; mean accuracy = 0.9572710222563849 ; auc = 0.6779719705602609\n",
      "num_trees = 100 ; depth= 4 ; mean accuracy = 0.9572710222563849 ; auc = 0.679290303997228\n",
      "num_trees = 100 ; depth= 5 ; mean accuracy = 0.9572710222563849 ; auc = 0.6796409997870494\n",
      "num_trees = 100 ; depth= 6 ; mean accuracy = 0.9572710222563849 ; auc = 0.6778978431229079\n",
      "num_trees = 125 ; depth= 3 ; mean accuracy = 0.9572710222563849 ; auc = 0.6780501703530166\n",
      "num_trees = 125 ; depth= 4 ; mean accuracy = 0.9572710222563849 ; auc = 0.6792668736053453\n",
      "num_trees = 125 ; depth= 5 ; mean accuracy = 0.9572710222563849 ; auc = 0.6796408193431926\n",
      "num_trees = 125 ; depth= 6 ; mean accuracy = 0.9572710222563849 ; auc = 0.6786666182716045\n",
      "num_trees = 150 ; depth= 3 ; mean accuracy = 0.9572710222563849 ; auc = 0.6779240478479047\n",
      "num_trees = 150 ; depth= 4 ; mean accuracy = 0.9572710222563849 ; auc = 0.6793701446039999\n",
      "num_trees = 150 ; depth= 5 ; mean accuracy = 0.9572710222563849 ; auc = 0.6797595309088124\n",
      "num_trees = 150 ; depth= 6 ; mean accuracy = 0.9572710222563849 ; auc = 0.679155181041854\n",
      "num_trees = 175 ; depth= 3 ; mean accuracy = 0.9572710222563849 ; auc = 0.6781943564127706\n",
      "num_trees = 175 ; depth= 4 ; mean accuracy = 0.9572710222563849 ; auc = 0.6796018207858943\n",
      "num_trees = 175 ; depth= 5 ; mean accuracy = 0.9572710222563849 ; auc = 0.6798263618370408\n",
      "num_trees = 175 ; depth= 6 ; mean accuracy = 0.9572710222563849 ; auc = 0.6791106600956663\n",
      "num_trees = 200 ; depth= 3 ; mean accuracy = 0.9572710222563849 ; auc = 0.6782427897055434\n",
      "num_trees = 200 ; depth= 4 ; mean accuracy = 0.9572710222563849 ; auc = 0.6796968560983274\n",
      "num_trees = 200 ; depth= 5 ; mean accuracy = 0.9572710222563849 ; auc = 0.6798670736760736\n",
      "num_trees = 200 ; depth= 6 ; mean accuracy = 0.9572710222563849 ; auc = 0.6790229196699946\n",
      "num_trees = 225 ; depth= 3 ; mean accuracy = 0.9572710222563849 ; auc = 0.6784269142968447\n",
      "num_trees = 225 ; depth= 4 ; mean accuracy = 0.9572710222563849 ; auc = 0.6796855122171099\n",
      "num_trees = 225 ; depth= 5 ; mean accuracy = 0.9572710222563849 ; auc = 0.6799616291228349\n",
      "num_trees = 225 ; depth= 6 ; mean accuracy = 0.9572710222563849 ; auc = 0.6791113061311682\n",
      "num_trees = 250 ; depth= 3 ; mean accuracy = 0.9572710222563849 ; auc = 0.6784426070303969\n",
      "num_trees = 250 ; depth= 4 ; mean accuracy = 0.9572710222563849 ; auc = 0.6797162005048276\n",
      "num_trees = 250 ; depth= 5 ; mean accuracy = 0.9572710222563849 ; auc = 0.6799801204803982\n",
      "num_trees = 250 ; depth= 6 ; mean accuracy = 0.9572710222563849 ; auc = 0.6790613231437466\n"
     ]
    }
   ],
   "source": [
    "kf = KFold(n_splits=num_cv_splits, random_state=5)\n",
    "for tree in num_trees:\n",
    "    for depth in max_depth:\n",
    "        auc = 0.0\n",
    "        acc = 0.0\n",
    "        for train_index, test_index in kf.split(X_train):\n",
    "            X_train_cv, X_test_cv = X_train.iloc[train_index], X_train.iloc[test_index]\n",
    "            Y_train_cv, Y_test_cv = Y_train.iloc[train_index], Y_train.iloc[test_index]\n",
    "            clf = RandomForestClassifier(n_estimators=tree, max_depth=depth, n_jobs = 8, random_state=5)\n",
    "            clf.fit(X_train_cv,Y_train_cv)\n",
    "            acc += clf.score(X_test_cv,Y_test_cv)\n",
    "            pred = clf.predict_proba(X_test_cv)[:,1]\n",
    "            auc += roc_auc_score(y_true = Y_test_cv, y_score = pred)\n",
    "        print('num_trees =',tree,'; depth=',depth,'; mean accuracy =',acc/num_cv_splits,'; auc =',auc/num_cv_splits)"
   ]
  },
  {
   "cell_type": "code",
   "execution_count": 108,
   "metadata": {},
   "outputs": [
    {
     "name": "stdout",
     "output_type": "stream",
     "text": [
      "num_trees = 250 ; depth= 5 ; auc = 0.6824337860903777\n"
     ]
    }
   ],
   "source": [
    "# Final model\n",
    "from sklearn.ensemble import RandomForestClassifier\n",
    "from sklearn.metrics import roc_auc_score\n",
    "num_trees = 250\n",
    "max_depth = 5\n",
    "clf = RandomForestClassifier(n_estimators=num_trees, max_depth=max_depth, n_jobs = 4, random_state=5)\n",
    "clf.fit(X_train,Y_train)\n",
    "pred = clf.predict_proba(X_test)\n",
    "auc = roc_auc_score(y_true = Y_test, y_score = pred[:,1])\n",
    "print('num_trees =',num_trees,'; depth=',max_depth,'; auc =',auc)"
   ]
  },
  {
   "cell_type": "code",
   "execution_count": 109,
   "metadata": {},
   "outputs": [
    {
     "name": "stdout",
     "output_type": "stream",
     "text": [
      "426.0 0.9605820696518274\n",
      "       Application_ID  Performance_Tag_credit         bad        good  \\\n",
      "count    8.400000e+02                   840.0  840.000000  840.000000   \n",
      "mean     4.922904e+08                     0.0    0.057597    0.942403   \n",
      "std      2.933828e+08                     0.0    0.024058    0.024058   \n",
      "min      1.289930e+05                     0.0    0.011933    0.851797   \n",
      "25%      2.249150e+08                     0.0    0.039492    0.924042   \n",
      "50%      4.856414e+08                     0.0    0.059930    0.940070   \n",
      "75%      7.502816e+08                     0.0    0.075958    0.960508   \n",
      "max      9.991786e+08                     0.0    0.148203    0.988067   \n",
      "\n",
      "             odds       score  \n",
      "count  840.000000  840.000000  \n",
      "mean     2.911963  417.577381  \n",
      "std      0.556001   16.028319  \n",
      "min      1.748763  384.000000  \n",
      "25%      2.498574  406.000000  \n",
      "50%      2.752772  413.000000  \n",
      "75%      3.191358  426.000000  \n",
      "max      4.416460  461.000000  \n",
      "       Application_ID  Performance_Tag_credit           bad          good  \\\n",
      "count    1.975200e+04                 19752.0  19752.000000  19752.000000   \n",
      "mean     5.005168e+08                     1.0      0.041638      0.958362   \n",
      "std      2.894381e+08                     0.0      0.024776      0.024776   \n",
      "min      1.979560e+05                     1.0      0.011436      0.861021   \n",
      "25%      2.490849e+08                     1.0      0.016196      0.938668   \n",
      "50%      4.997160e+08                     1.0      0.037526      0.962474   \n",
      "75%      7.549943e+08                     1.0      0.061332      0.983804   \n",
      "max      1.000026e+09                     1.0      0.138979      0.988564   \n",
      "\n",
      "               odds         score  \n",
      "count  19752.000000  19752.000000  \n",
      "mean       3.332777    429.725294  \n",
      "std        0.674045     19.447687  \n",
      "min        1.823798    386.000000  \n",
      "25%        2.728165    412.000000  \n",
      "50%        3.244484    427.000000  \n",
      "75%        4.106657    452.000000  \n",
      "max        4.459521    462.000000  \n"
     ]
    }
   ],
   "source": [
    "#Application Scorecard\n",
    "from sklearn import metrics\n",
    "score_data = pd.concat([Test_ID,Y_test], axis=1)\n",
    "score_data['bad'] = pred[:,0]\n",
    "score_data['good'] = pred[:,1]\n",
    "score_data['odds'] = np.log(score_data['good']/score_data['bad'])\n",
    "PDO = 20.0\n",
    "BaseScore = 400.0\n",
    "Odds = 10.0\n",
    "Factor = PDO/np.log(2)\n",
    "Offset = BaseScore-(Factor*np.log(Odds))\n",
    "score_data['score'] = np.round(Offset+(Factor*score_data['odds']))\n",
    "\n",
    "fpr, tpr, thresholds = metrics.roc_curve(y_true = Y_test, y_score = pred[:,1])\n",
    "cut_off_prediction_probability_score = thresholds[np.argmax(tpr-fpr)]\n",
    "cut_off_score = np.round(Offset+(Factor*np.log(cut_off_prediction_probability_score/(1-cut_off_prediction_probability_score))))\n",
    "print(cut_off_score, cut_off_prediction_probability_score)\n",
    "\n",
    "# score_data_sorted = score_data.sort_values(['score'])\n",
    "# print(score_data_sorted[['score','Performance_Tag_credit','good']])\n",
    "\n",
    "reject = score_data[score_data['Performance_Tag_credit'] == 0.0]\n",
    "print(reject.describe())\n",
    "\n",
    "approved = score_data[score_data['Performance_Tag_credit'] == 1.0]\n",
    "print(approved.describe())"
   ]
  }
 ],
 "metadata": {
  "kernelspec": {
   "display_name": "Python 3",
   "language": "python",
   "name": "python3"
  },
  "language_info": {
   "codemirror_mode": {
    "name": "ipython",
    "version": 3
   },
   "file_extension": ".py",
   "mimetype": "text/x-python",
   "name": "python",
   "nbconvert_exporter": "python",
   "pygments_lexer": "ipython3",
   "version": "3.8.3"
  }
 },
 "nbformat": 4,
 "nbformat_minor": 2
}
